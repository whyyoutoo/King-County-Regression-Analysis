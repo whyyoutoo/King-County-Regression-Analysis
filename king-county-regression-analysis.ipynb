{
 "cells": [
  {
   "cell_type": "markdown",
   "metadata": {},
   "source": [
    "## Final Project Submission\n",
    "\n",
    "Please fill out:\n",
    "* Student name: Wesley Yu\n",
    "* Student pace: Flex\n",
    "* Scheduled project review date/time: \n",
    "* Instructor name: \n",
    "* Blog post URL:\n"
   ]
  },
  {
   "cell_type": "markdown",
   "metadata": {},
   "source": [
    "enter image here?\n",
    "\n",
    "![example](images/director_shot.jpeg)"
   ]
  },
  {
   "cell_type": "markdown",
   "metadata": {},
   "source": [
    "# King County Home Regression Analysis\n",
    "\n",
    "**Authors:** Wesley Yu\n",
    "***"
   ]
  },
  {
   "cell_type": "markdown",
   "metadata": {},
   "source": [
    "## Overview\n",
    "\n",
    "This project will use multiple linear regression to analyze house sales in King County WA."
   ]
  },
  {
   "cell_type": "markdown",
   "metadata": {},
   "source": [
    "## Business Problem\n",
    "\n",
    "A real estate company is looking to expand into the King County market. They want to know what kind of features will affect house prices in this area so that they can advise potential home buyers."
   ]
  },
  {
   "cell_type": "markdown",
   "metadata": {},
   "source": [
    "## Data Understanding\n",
    "\n",
    "Data set from King County contains 21,597 records of house sales during 2014 - 2015 period. Data also contains sale prices, various features describing the homes, condition of property when sold, and location details. Additional data from US Post office was added to help narrow down zipcodes.\n"
   ]
  },
  {
   "cell_type": "markdown",
   "metadata": {},
   "source": [
    "## Data Preparation\n",
    "\n",
    "### EDA \n",
    "\n"
   ]
  },
  {
   "cell_type": "code",
   "execution_count": 1,
   "metadata": {},
   "outputs": [],
   "source": [
    "# import libraries\n",
    "import numpy as np\n",
    "import pandas as pd\n",
    "import matplotlib.pyplot as plt\n",
    "%matplotlib inline\n",
    "import statsmodels.api as sm\n",
    "import seaborn as sns\n",
    "from sklearn.linear_model import LinearRegression\n",
    "from sklearn.model_selection import train_test_split\n",
    "from sklearn.feature_selection import RFE\n",
    "import scipy.stats as stats\n",
    "from sklearn.metrics import mean_squared_error"
   ]
  },
  {
   "cell_type": "code",
   "execution_count": 2,
   "metadata": {},
   "outputs": [
    {
     "data": {
      "text/html": [
       "<div>\n",
       "<style scoped>\n",
       "    .dataframe tbody tr th:only-of-type {\n",
       "        vertical-align: middle;\n",
       "    }\n",
       "\n",
       "    .dataframe tbody tr th {\n",
       "        vertical-align: top;\n",
       "    }\n",
       "\n",
       "    .dataframe thead th {\n",
       "        text-align: right;\n",
       "    }\n",
       "</style>\n",
       "<table border=\"1\" class=\"dataframe\">\n",
       "  <thead>\n",
       "    <tr style=\"text-align: right;\">\n",
       "      <th></th>\n",
       "      <th>id</th>\n",
       "      <th>date</th>\n",
       "      <th>price</th>\n",
       "      <th>bedrooms</th>\n",
       "      <th>bathrooms</th>\n",
       "      <th>sqft_living</th>\n",
       "      <th>sqft_lot</th>\n",
       "      <th>floors</th>\n",
       "      <th>waterfront</th>\n",
       "      <th>view</th>\n",
       "      <th>...</th>\n",
       "      <th>grade</th>\n",
       "      <th>sqft_above</th>\n",
       "      <th>sqft_basement</th>\n",
       "      <th>yr_built</th>\n",
       "      <th>yr_renovated</th>\n",
       "      <th>zipcode</th>\n",
       "      <th>lat</th>\n",
       "      <th>long</th>\n",
       "      <th>sqft_living15</th>\n",
       "      <th>sqft_lot15</th>\n",
       "    </tr>\n",
       "  </thead>\n",
       "  <tbody>\n",
       "    <tr>\n",
       "      <th>0</th>\n",
       "      <td>7129300520</td>\n",
       "      <td>10/13/2014</td>\n",
       "      <td>221900.0</td>\n",
       "      <td>3</td>\n",
       "      <td>1.00</td>\n",
       "      <td>1180</td>\n",
       "      <td>5650</td>\n",
       "      <td>1.0</td>\n",
       "      <td>NaN</td>\n",
       "      <td>NONE</td>\n",
       "      <td>...</td>\n",
       "      <td>7 Average</td>\n",
       "      <td>1180</td>\n",
       "      <td>0.0</td>\n",
       "      <td>1955</td>\n",
       "      <td>0.0</td>\n",
       "      <td>98178</td>\n",
       "      <td>47.5112</td>\n",
       "      <td>-122.257</td>\n",
       "      <td>1340</td>\n",
       "      <td>5650</td>\n",
       "    </tr>\n",
       "    <tr>\n",
       "      <th>1</th>\n",
       "      <td>6414100192</td>\n",
       "      <td>12/9/2014</td>\n",
       "      <td>538000.0</td>\n",
       "      <td>3</td>\n",
       "      <td>2.25</td>\n",
       "      <td>2570</td>\n",
       "      <td>7242</td>\n",
       "      <td>2.0</td>\n",
       "      <td>NO</td>\n",
       "      <td>NONE</td>\n",
       "      <td>...</td>\n",
       "      <td>7 Average</td>\n",
       "      <td>2170</td>\n",
       "      <td>400.0</td>\n",
       "      <td>1951</td>\n",
       "      <td>1991.0</td>\n",
       "      <td>98125</td>\n",
       "      <td>47.7210</td>\n",
       "      <td>-122.319</td>\n",
       "      <td>1690</td>\n",
       "      <td>7639</td>\n",
       "    </tr>\n",
       "    <tr>\n",
       "      <th>2</th>\n",
       "      <td>5631500400</td>\n",
       "      <td>2/25/2015</td>\n",
       "      <td>180000.0</td>\n",
       "      <td>2</td>\n",
       "      <td>1.00</td>\n",
       "      <td>770</td>\n",
       "      <td>10000</td>\n",
       "      <td>1.0</td>\n",
       "      <td>NO</td>\n",
       "      <td>NONE</td>\n",
       "      <td>...</td>\n",
       "      <td>6 Low Average</td>\n",
       "      <td>770</td>\n",
       "      <td>0.0</td>\n",
       "      <td>1933</td>\n",
       "      <td>NaN</td>\n",
       "      <td>98028</td>\n",
       "      <td>47.7379</td>\n",
       "      <td>-122.233</td>\n",
       "      <td>2720</td>\n",
       "      <td>8062</td>\n",
       "    </tr>\n",
       "    <tr>\n",
       "      <th>3</th>\n",
       "      <td>2487200875</td>\n",
       "      <td>12/9/2014</td>\n",
       "      <td>604000.0</td>\n",
       "      <td>4</td>\n",
       "      <td>3.00</td>\n",
       "      <td>1960</td>\n",
       "      <td>5000</td>\n",
       "      <td>1.0</td>\n",
       "      <td>NO</td>\n",
       "      <td>NONE</td>\n",
       "      <td>...</td>\n",
       "      <td>7 Average</td>\n",
       "      <td>1050</td>\n",
       "      <td>910.0</td>\n",
       "      <td>1965</td>\n",
       "      <td>0.0</td>\n",
       "      <td>98136</td>\n",
       "      <td>47.5208</td>\n",
       "      <td>-122.393</td>\n",
       "      <td>1360</td>\n",
       "      <td>5000</td>\n",
       "    </tr>\n",
       "    <tr>\n",
       "      <th>4</th>\n",
       "      <td>1954400510</td>\n",
       "      <td>2/18/2015</td>\n",
       "      <td>510000.0</td>\n",
       "      <td>3</td>\n",
       "      <td>2.00</td>\n",
       "      <td>1680</td>\n",
       "      <td>8080</td>\n",
       "      <td>1.0</td>\n",
       "      <td>NO</td>\n",
       "      <td>NONE</td>\n",
       "      <td>...</td>\n",
       "      <td>8 Good</td>\n",
       "      <td>1680</td>\n",
       "      <td>0.0</td>\n",
       "      <td>1987</td>\n",
       "      <td>0.0</td>\n",
       "      <td>98074</td>\n",
       "      <td>47.6168</td>\n",
       "      <td>-122.045</td>\n",
       "      <td>1800</td>\n",
       "      <td>7503</td>\n",
       "    </tr>\n",
       "  </tbody>\n",
       "</table>\n",
       "<p>5 rows × 21 columns</p>\n",
       "</div>"
      ],
      "text/plain": [
       "           id        date     price  bedrooms  bathrooms  sqft_living  \\\n",
       "0  7129300520  10/13/2014  221900.0         3       1.00         1180   \n",
       "1  6414100192   12/9/2014  538000.0         3       2.25         2570   \n",
       "2  5631500400   2/25/2015  180000.0         2       1.00          770   \n",
       "3  2487200875   12/9/2014  604000.0         4       3.00         1960   \n",
       "4  1954400510   2/18/2015  510000.0         3       2.00         1680   \n",
       "\n",
       "   sqft_lot  floors waterfront  view  ...          grade sqft_above  \\\n",
       "0      5650     1.0        NaN  NONE  ...      7 Average       1180   \n",
       "1      7242     2.0         NO  NONE  ...      7 Average       2170   \n",
       "2     10000     1.0         NO  NONE  ...  6 Low Average        770   \n",
       "3      5000     1.0         NO  NONE  ...      7 Average       1050   \n",
       "4      8080     1.0         NO  NONE  ...         8 Good       1680   \n",
       "\n",
       "   sqft_basement yr_built  yr_renovated  zipcode      lat     long  \\\n",
       "0            0.0     1955           0.0    98178  47.5112 -122.257   \n",
       "1          400.0     1951        1991.0    98125  47.7210 -122.319   \n",
       "2            0.0     1933           NaN    98028  47.7379 -122.233   \n",
       "3          910.0     1965           0.0    98136  47.5208 -122.393   \n",
       "4            0.0     1987           0.0    98074  47.6168 -122.045   \n",
       "\n",
       "   sqft_living15  sqft_lot15  \n",
       "0           1340        5650  \n",
       "1           1690        7639  \n",
       "2           2720        8062  \n",
       "3           1360        5000  \n",
       "4           1800        7503  \n",
       "\n",
       "[5 rows x 21 columns]"
      ]
     },
     "execution_count": 2,
     "metadata": {},
     "output_type": "execute_result"
    }
   ],
   "source": [
    "df = pd.read_csv('data/kc_house_data.csv')\n",
    "df.head()"
   ]
  },
  {
   "cell_type": "code",
   "execution_count": 3,
   "metadata": {},
   "outputs": [
    {
     "name": "stdout",
     "output_type": "stream",
     "text": [
      "<class 'pandas.core.frame.DataFrame'>\n",
      "RangeIndex: 21597 entries, 0 to 21596\n",
      "Data columns (total 21 columns):\n",
      " #   Column         Non-Null Count  Dtype  \n",
      "---  ------         --------------  -----  \n",
      " 0   id             21597 non-null  int64  \n",
      " 1   date           21597 non-null  object \n",
      " 2   price          21597 non-null  float64\n",
      " 3   bedrooms       21597 non-null  int64  \n",
      " 4   bathrooms      21597 non-null  float64\n",
      " 5   sqft_living    21597 non-null  int64  \n",
      " 6   sqft_lot       21597 non-null  int64  \n",
      " 7   floors         21597 non-null  float64\n",
      " 8   waterfront     19221 non-null  object \n",
      " 9   view           21534 non-null  object \n",
      " 10  condition      21597 non-null  object \n",
      " 11  grade          21597 non-null  object \n",
      " 12  sqft_above     21597 non-null  int64  \n",
      " 13  sqft_basement  21597 non-null  object \n",
      " 14  yr_built       21597 non-null  int64  \n",
      " 15  yr_renovated   17755 non-null  float64\n",
      " 16  zipcode        21597 non-null  int64  \n",
      " 17  lat            21597 non-null  float64\n",
      " 18  long           21597 non-null  float64\n",
      " 19  sqft_living15  21597 non-null  int64  \n",
      " 20  sqft_lot15     21597 non-null  int64  \n",
      "dtypes: float64(6), int64(9), object(6)\n",
      "memory usage: 3.5+ MB\n"
     ]
    }
   ],
   "source": [
    "df.info()"
   ]
  },
  {
   "cell_type": "code",
   "execution_count": 4,
   "metadata": {},
   "outputs": [
    {
     "data": {
      "text/plain": [
       "177"
      ]
     },
     "execution_count": 4,
     "metadata": {},
     "output_type": "execute_result"
    }
   ],
   "source": [
    "# check for duplicates\n",
    "df.duplicated(subset = 'id').sum()"
   ]
  },
  {
   "cell_type": "code",
   "execution_count": 5,
   "metadata": {},
   "outputs": [
    {
     "data": {
      "text/html": [
       "<div>\n",
       "<style scoped>\n",
       "    .dataframe tbody tr th:only-of-type {\n",
       "        vertical-align: middle;\n",
       "    }\n",
       "\n",
       "    .dataframe tbody tr th {\n",
       "        vertical-align: top;\n",
       "    }\n",
       "\n",
       "    .dataframe thead th {\n",
       "        text-align: right;\n",
       "    }\n",
       "</style>\n",
       "<table border=\"1\" class=\"dataframe\">\n",
       "  <thead>\n",
       "    <tr style=\"text-align: right;\">\n",
       "      <th></th>\n",
       "      <th>id</th>\n",
       "      <th>date</th>\n",
       "      <th>price</th>\n",
       "      <th>bedrooms</th>\n",
       "      <th>bathrooms</th>\n",
       "      <th>sqft_living</th>\n",
       "      <th>sqft_lot</th>\n",
       "      <th>floors</th>\n",
       "      <th>waterfront</th>\n",
       "      <th>view</th>\n",
       "      <th>...</th>\n",
       "      <th>grade</th>\n",
       "      <th>sqft_above</th>\n",
       "      <th>sqft_basement</th>\n",
       "      <th>yr_built</th>\n",
       "      <th>yr_renovated</th>\n",
       "      <th>zipcode</th>\n",
       "      <th>lat</th>\n",
       "      <th>long</th>\n",
       "      <th>sqft_living15</th>\n",
       "      <th>sqft_lot15</th>\n",
       "    </tr>\n",
       "  </thead>\n",
       "  <tbody>\n",
       "    <tr>\n",
       "      <th>93</th>\n",
       "      <td>6021501535</td>\n",
       "      <td>7/25/2014</td>\n",
       "      <td>430000.0</td>\n",
       "      <td>3</td>\n",
       "      <td>1.50</td>\n",
       "      <td>1580</td>\n",
       "      <td>5000</td>\n",
       "      <td>1.0</td>\n",
       "      <td>NO</td>\n",
       "      <td>NONE</td>\n",
       "      <td>...</td>\n",
       "      <td>8 Good</td>\n",
       "      <td>1290</td>\n",
       "      <td>290.0</td>\n",
       "      <td>1939</td>\n",
       "      <td>0.0</td>\n",
       "      <td>98117</td>\n",
       "      <td>47.6870</td>\n",
       "      <td>-122.386</td>\n",
       "      <td>1570</td>\n",
       "      <td>4500</td>\n",
       "    </tr>\n",
       "    <tr>\n",
       "      <th>94</th>\n",
       "      <td>6021501535</td>\n",
       "      <td>12/23/2014</td>\n",
       "      <td>700000.0</td>\n",
       "      <td>3</td>\n",
       "      <td>1.50</td>\n",
       "      <td>1580</td>\n",
       "      <td>5000</td>\n",
       "      <td>1.0</td>\n",
       "      <td>NO</td>\n",
       "      <td>NONE</td>\n",
       "      <td>...</td>\n",
       "      <td>8 Good</td>\n",
       "      <td>1290</td>\n",
       "      <td>290.0</td>\n",
       "      <td>1939</td>\n",
       "      <td>0.0</td>\n",
       "      <td>98117</td>\n",
       "      <td>47.6870</td>\n",
       "      <td>-122.386</td>\n",
       "      <td>1570</td>\n",
       "      <td>4500</td>\n",
       "    </tr>\n",
       "    <tr>\n",
       "      <th>313</th>\n",
       "      <td>4139480200</td>\n",
       "      <td>6/18/2014</td>\n",
       "      <td>1380000.0</td>\n",
       "      <td>4</td>\n",
       "      <td>3.25</td>\n",
       "      <td>4290</td>\n",
       "      <td>12103</td>\n",
       "      <td>1.0</td>\n",
       "      <td>NO</td>\n",
       "      <td>GOOD</td>\n",
       "      <td>...</td>\n",
       "      <td>11 Excellent</td>\n",
       "      <td>2690</td>\n",
       "      <td>1600.0</td>\n",
       "      <td>1997</td>\n",
       "      <td>0.0</td>\n",
       "      <td>98006</td>\n",
       "      <td>47.5503</td>\n",
       "      <td>-122.102</td>\n",
       "      <td>3860</td>\n",
       "      <td>11244</td>\n",
       "    </tr>\n",
       "    <tr>\n",
       "      <th>314</th>\n",
       "      <td>4139480200</td>\n",
       "      <td>12/9/2014</td>\n",
       "      <td>1400000.0</td>\n",
       "      <td>4</td>\n",
       "      <td>3.25</td>\n",
       "      <td>4290</td>\n",
       "      <td>12103</td>\n",
       "      <td>1.0</td>\n",
       "      <td>NO</td>\n",
       "      <td>GOOD</td>\n",
       "      <td>...</td>\n",
       "      <td>11 Excellent</td>\n",
       "      <td>2690</td>\n",
       "      <td>1600.0</td>\n",
       "      <td>1997</td>\n",
       "      <td>0.0</td>\n",
       "      <td>98006</td>\n",
       "      <td>47.5503</td>\n",
       "      <td>-122.102</td>\n",
       "      <td>3860</td>\n",
       "      <td>11244</td>\n",
       "    </tr>\n",
       "    <tr>\n",
       "      <th>324</th>\n",
       "      <td>7520000520</td>\n",
       "      <td>9/5/2014</td>\n",
       "      <td>232000.0</td>\n",
       "      <td>2</td>\n",
       "      <td>1.00</td>\n",
       "      <td>1240</td>\n",
       "      <td>12092</td>\n",
       "      <td>1.0</td>\n",
       "      <td>NaN</td>\n",
       "      <td>NONE</td>\n",
       "      <td>...</td>\n",
       "      <td>6 Low Average</td>\n",
       "      <td>960</td>\n",
       "      <td>280.0</td>\n",
       "      <td>1922</td>\n",
       "      <td>1984.0</td>\n",
       "      <td>98146</td>\n",
       "      <td>47.4957</td>\n",
       "      <td>-122.352</td>\n",
       "      <td>1820</td>\n",
       "      <td>7460</td>\n",
       "    </tr>\n",
       "    <tr>\n",
       "      <th>...</th>\n",
       "      <td>...</td>\n",
       "      <td>...</td>\n",
       "      <td>...</td>\n",
       "      <td>...</td>\n",
       "      <td>...</td>\n",
       "      <td>...</td>\n",
       "      <td>...</td>\n",
       "      <td>...</td>\n",
       "      <td>...</td>\n",
       "      <td>...</td>\n",
       "      <td>...</td>\n",
       "      <td>...</td>\n",
       "      <td>...</td>\n",
       "      <td>...</td>\n",
       "      <td>...</td>\n",
       "      <td>...</td>\n",
       "      <td>...</td>\n",
       "      <td>...</td>\n",
       "      <td>...</td>\n",
       "      <td>...</td>\n",
       "      <td>...</td>\n",
       "    </tr>\n",
       "    <tr>\n",
       "      <th>20654</th>\n",
       "      <td>8564860270</td>\n",
       "      <td>3/30/2015</td>\n",
       "      <td>502000.0</td>\n",
       "      <td>4</td>\n",
       "      <td>2.50</td>\n",
       "      <td>2680</td>\n",
       "      <td>5539</td>\n",
       "      <td>2.0</td>\n",
       "      <td>NaN</td>\n",
       "      <td>NONE</td>\n",
       "      <td>...</td>\n",
       "      <td>8 Good</td>\n",
       "      <td>2680</td>\n",
       "      <td>0.0</td>\n",
       "      <td>2013</td>\n",
       "      <td>0.0</td>\n",
       "      <td>98045</td>\n",
       "      <td>47.4759</td>\n",
       "      <td>-121.734</td>\n",
       "      <td>2680</td>\n",
       "      <td>5992</td>\n",
       "    </tr>\n",
       "    <tr>\n",
       "      <th>20763</th>\n",
       "      <td>6300000226</td>\n",
       "      <td>6/26/2014</td>\n",
       "      <td>240000.0</td>\n",
       "      <td>4</td>\n",
       "      <td>1.00</td>\n",
       "      <td>1200</td>\n",
       "      <td>2171</td>\n",
       "      <td>1.5</td>\n",
       "      <td>NO</td>\n",
       "      <td>NONE</td>\n",
       "      <td>...</td>\n",
       "      <td>7 Average</td>\n",
       "      <td>1200</td>\n",
       "      <td>0.0</td>\n",
       "      <td>1933</td>\n",
       "      <td>0.0</td>\n",
       "      <td>98133</td>\n",
       "      <td>47.7076</td>\n",
       "      <td>-122.342</td>\n",
       "      <td>1130</td>\n",
       "      <td>1598</td>\n",
       "    </tr>\n",
       "    <tr>\n",
       "      <th>20764</th>\n",
       "      <td>6300000226</td>\n",
       "      <td>5/4/2015</td>\n",
       "      <td>380000.0</td>\n",
       "      <td>4</td>\n",
       "      <td>1.00</td>\n",
       "      <td>1200</td>\n",
       "      <td>2171</td>\n",
       "      <td>1.5</td>\n",
       "      <td>NO</td>\n",
       "      <td>NONE</td>\n",
       "      <td>...</td>\n",
       "      <td>7 Average</td>\n",
       "      <td>1200</td>\n",
       "      <td>0.0</td>\n",
       "      <td>1933</td>\n",
       "      <td>0.0</td>\n",
       "      <td>98133</td>\n",
       "      <td>47.7076</td>\n",
       "      <td>-122.342</td>\n",
       "      <td>1130</td>\n",
       "      <td>1598</td>\n",
       "    </tr>\n",
       "    <tr>\n",
       "      <th>21564</th>\n",
       "      <td>7853420110</td>\n",
       "      <td>10/3/2014</td>\n",
       "      <td>594866.0</td>\n",
       "      <td>3</td>\n",
       "      <td>3.00</td>\n",
       "      <td>2780</td>\n",
       "      <td>6000</td>\n",
       "      <td>2.0</td>\n",
       "      <td>NO</td>\n",
       "      <td>NONE</td>\n",
       "      <td>...</td>\n",
       "      <td>9 Better</td>\n",
       "      <td>2780</td>\n",
       "      <td>0.0</td>\n",
       "      <td>2013</td>\n",
       "      <td>0.0</td>\n",
       "      <td>98065</td>\n",
       "      <td>47.5184</td>\n",
       "      <td>-121.886</td>\n",
       "      <td>2850</td>\n",
       "      <td>6000</td>\n",
       "    </tr>\n",
       "    <tr>\n",
       "      <th>21565</th>\n",
       "      <td>7853420110</td>\n",
       "      <td>5/4/2015</td>\n",
       "      <td>625000.0</td>\n",
       "      <td>3</td>\n",
       "      <td>3.00</td>\n",
       "      <td>2780</td>\n",
       "      <td>6000</td>\n",
       "      <td>2.0</td>\n",
       "      <td>NO</td>\n",
       "      <td>NONE</td>\n",
       "      <td>...</td>\n",
       "      <td>9 Better</td>\n",
       "      <td>2780</td>\n",
       "      <td>0.0</td>\n",
       "      <td>2013</td>\n",
       "      <td>NaN</td>\n",
       "      <td>98065</td>\n",
       "      <td>47.5184</td>\n",
       "      <td>-121.886</td>\n",
       "      <td>2850</td>\n",
       "      <td>6000</td>\n",
       "    </tr>\n",
       "  </tbody>\n",
       "</table>\n",
       "<p>353 rows × 21 columns</p>\n",
       "</div>"
      ],
      "text/plain": [
       "               id        date      price  bedrooms  bathrooms  sqft_living  \\\n",
       "93     6021501535   7/25/2014   430000.0         3       1.50         1580   \n",
       "94     6021501535  12/23/2014   700000.0         3       1.50         1580   \n",
       "313    4139480200   6/18/2014  1380000.0         4       3.25         4290   \n",
       "314    4139480200   12/9/2014  1400000.0         4       3.25         4290   \n",
       "324    7520000520    9/5/2014   232000.0         2       1.00         1240   \n",
       "...           ...         ...        ...       ...        ...          ...   \n",
       "20654  8564860270   3/30/2015   502000.0         4       2.50         2680   \n",
       "20763  6300000226   6/26/2014   240000.0         4       1.00         1200   \n",
       "20764  6300000226    5/4/2015   380000.0         4       1.00         1200   \n",
       "21564  7853420110   10/3/2014   594866.0         3       3.00         2780   \n",
       "21565  7853420110    5/4/2015   625000.0         3       3.00         2780   \n",
       "\n",
       "       sqft_lot  floors waterfront  view  ...          grade sqft_above  \\\n",
       "93         5000     1.0         NO  NONE  ...         8 Good       1290   \n",
       "94         5000     1.0         NO  NONE  ...         8 Good       1290   \n",
       "313       12103     1.0         NO  GOOD  ...   11 Excellent       2690   \n",
       "314       12103     1.0         NO  GOOD  ...   11 Excellent       2690   \n",
       "324       12092     1.0        NaN  NONE  ...  6 Low Average        960   \n",
       "...         ...     ...        ...   ...  ...            ...        ...   \n",
       "20654      5539     2.0        NaN  NONE  ...         8 Good       2680   \n",
       "20763      2171     1.5         NO  NONE  ...      7 Average       1200   \n",
       "20764      2171     1.5         NO  NONE  ...      7 Average       1200   \n",
       "21564      6000     2.0         NO  NONE  ...       9 Better       2780   \n",
       "21565      6000     2.0         NO  NONE  ...       9 Better       2780   \n",
       "\n",
       "       sqft_basement yr_built  yr_renovated  zipcode      lat     long  \\\n",
       "93             290.0     1939           0.0    98117  47.6870 -122.386   \n",
       "94             290.0     1939           0.0    98117  47.6870 -122.386   \n",
       "313           1600.0     1997           0.0    98006  47.5503 -122.102   \n",
       "314           1600.0     1997           0.0    98006  47.5503 -122.102   \n",
       "324            280.0     1922        1984.0    98146  47.4957 -122.352   \n",
       "...              ...      ...           ...      ...      ...      ...   \n",
       "20654            0.0     2013           0.0    98045  47.4759 -121.734   \n",
       "20763            0.0     1933           0.0    98133  47.7076 -122.342   \n",
       "20764            0.0     1933           0.0    98133  47.7076 -122.342   \n",
       "21564            0.0     2013           0.0    98065  47.5184 -121.886   \n",
       "21565            0.0     2013           NaN    98065  47.5184 -121.886   \n",
       "\n",
       "       sqft_living15  sqft_lot15  \n",
       "93              1570        4500  \n",
       "94              1570        4500  \n",
       "313             3860       11244  \n",
       "314             3860       11244  \n",
       "324             1820        7460  \n",
       "...              ...         ...  \n",
       "20654           2680        5992  \n",
       "20763           1130        1598  \n",
       "20764           1130        1598  \n",
       "21564           2850        6000  \n",
       "21565           2850        6000  \n",
       "\n",
       "[353 rows x 21 columns]"
      ]
     },
     "execution_count": 5,
     "metadata": {},
     "output_type": "execute_result"
    }
   ],
   "source": [
    "df[df.duplicated(subset = 'id', keep = False)]"
   ]
  },
  {
   "cell_type": "code",
   "execution_count": 6,
   "metadata": {},
   "outputs": [],
   "source": [
    "df.drop_duplicates(subset = 'id', keep = 'last', inplace = True)"
   ]
  },
  {
   "cell_type": "markdown",
   "metadata": {},
   "source": [
    "Duplicates were found to be homes that were sold twice during 2014-2015 period. I decided to keep most recent records of house sales to reflect the changing market."
   ]
  },
  {
   "cell_type": "code",
   "execution_count": 7,
   "metadata": {},
   "outputs": [
    {
     "data": {
      "text/plain": [
       "id                  0\n",
       "date                0\n",
       "price               0\n",
       "bedrooms            0\n",
       "bathrooms           0\n",
       "sqft_living         0\n",
       "sqft_lot            0\n",
       "floors              0\n",
       "waterfront       2353\n",
       "view               63\n",
       "condition           0\n",
       "grade               0\n",
       "sqft_above          0\n",
       "sqft_basement       0\n",
       "yr_built            0\n",
       "yr_renovated     3813\n",
       "zipcode             0\n",
       "lat                 0\n",
       "long                0\n",
       "sqft_living15       0\n",
       "sqft_lot15          0\n",
       "dtype: int64"
      ]
     },
     "execution_count": 7,
     "metadata": {},
     "output_type": "execute_result"
    }
   ],
   "source": [
    "# check for nulls\n",
    "df.isna().sum()"
   ]
  },
  {
   "cell_type": "code",
   "execution_count": 8,
   "metadata": {},
   "outputs": [
    {
     "data": {
      "text/plain": [
       "NO     18921\n",
       "YES      146\n",
       "Name: waterfront, dtype: int64"
      ]
     },
     "execution_count": 8,
     "metadata": {},
     "output_type": "execute_result"
    }
   ],
   "source": [
    "df.waterfront.value_counts()"
   ]
  },
  {
   "cell_type": "code",
   "execution_count": 9,
   "metadata": {},
   "outputs": [],
   "source": [
    "df.waterfront.fillna('NO', inplace = True)"
   ]
  },
  {
   "cell_type": "code",
   "execution_count": 10,
   "metadata": {},
   "outputs": [],
   "source": [
    "df.waterfront.replace({'NO': 0, 'YES':1}, inplace = True)"
   ]
  },
  {
   "cell_type": "markdown",
   "metadata": {},
   "source": [
    "I decided to replace null values in waterfall to 'NO' and convert binary values for inputting into model."
   ]
  },
  {
   "cell_type": "code",
   "execution_count": 11,
   "metadata": {},
   "outputs": [
    {
     "data": {
      "text/plain": [
       "NONE         19253\n",
       "AVERAGE        956\n",
       "GOOD           505\n",
       "FAIR           329\n",
       "EXCELLENT      314\n",
       "Name: view, dtype: int64"
      ]
     },
     "execution_count": 11,
     "metadata": {},
     "output_type": "execute_result"
    }
   ],
   "source": [
    "df.view.value_counts()"
   ]
  },
  {
   "cell_type": "code",
   "execution_count": 12,
   "metadata": {},
   "outputs": [],
   "source": [
    "df.view.fillna('NONE', inplace = True)"
   ]
  },
  {
   "cell_type": "code",
   "execution_count": 13,
   "metadata": {},
   "outputs": [],
   "source": [
    "df.view.replace({'NONE': 0, 'FAIR': 1, 'AVERAGE': 2, 'GOOD':3, 'EXCELLENT': 4}, inplace = True)"
   ]
  },
  {
   "cell_type": "markdown",
   "metadata": {},
   "source": [
    "Same was done to view, and replaced with ordinal values with numeric"
   ]
  },
  {
   "cell_type": "code",
   "execution_count": 14,
   "metadata": {},
   "outputs": [
    {
     "data": {
      "text/plain": [
       "0.0       16867\n",
       "2014.0       73\n",
       "2003.0       31\n",
       "2013.0       31\n",
       "2007.0       30\n",
       "          ...  \n",
       "1934.0        1\n",
       "1971.0        1\n",
       "1954.0        1\n",
       "1950.0        1\n",
       "1944.0        1\n",
       "Name: yr_renovated, Length: 70, dtype: int64"
      ]
     },
     "execution_count": 14,
     "metadata": {},
     "output_type": "execute_result"
    }
   ],
   "source": [
    "df.yr_renovated.value_counts()"
   ]
  },
  {
   "cell_type": "code",
   "execution_count": 15,
   "metadata": {},
   "outputs": [],
   "source": [
    "df.drop('yr_renovated', axis = 1, inplace = True)"
   ]
  },
  {
   "cell_type": "markdown",
   "metadata": {},
   "source": [
    "There is a large number of nulls in the yr_renovated feature. Majority of values are also 0. We will drop this column."
   ]
  },
  {
   "cell_type": "code",
   "execution_count": 16,
   "metadata": {},
   "outputs": [
    {
     "data": {
      "text/plain": [
       "0.0       12716\n",
       "?           452\n",
       "600.0       216\n",
       "700.0       206\n",
       "500.0       206\n",
       "          ...  \n",
       "2390.0        1\n",
       "1852.0        1\n",
       "768.0         1\n",
       "1024.0        1\n",
       "143.0         1\n",
       "Name: sqft_basement, Length: 304, dtype: int64"
      ]
     },
     "execution_count": 16,
     "metadata": {},
     "output_type": "execute_result"
    }
   ],
   "source": [
    "df.sqft_basement.value_counts()"
   ]
  },
  {
   "cell_type": "code",
   "execution_count": 17,
   "metadata": {},
   "outputs": [],
   "source": [
    "df.sqft_basement.replace('?', 0, inplace = True)\n",
    "df.sqft_basement = df.sqft_basement.astype(float)"
   ]
  },
  {
   "cell_type": "code",
   "execution_count": 18,
   "metadata": {},
   "outputs": [
    {
     "data": {
      "text/plain": [
       "21251"
      ]
     },
     "execution_count": 18,
     "metadata": {},
     "output_type": "execute_result"
    }
   ],
   "source": [
    "(df.sqft_basement + df.sqft_above == df.sqft_living).sum()"
   ]
  },
  {
   "cell_type": "code",
   "execution_count": 19,
   "metadata": {},
   "outputs": [],
   "source": [
    "df.loc[(df.sqft_basement + df.sqft_above != df.sqft_living), 'sqft_basement'] = 1"
   ]
  },
  {
   "cell_type": "code",
   "execution_count": 20,
   "metadata": {},
   "outputs": [],
   "source": [
    "df.loc[df.sqft_basement > 0, 'sqft_basement'] = 1"
   ]
  },
  {
   "cell_type": "code",
   "execution_count": 21,
   "metadata": {},
   "outputs": [],
   "source": [
    "df.rename(columns = {'sqft_basement': 'basement'}, inplace = True)"
   ]
  },
  {
   "cell_type": "markdown",
   "metadata": {},
   "source": [
    "Replacing '?' with 0. It looks like sqft_basement + sqft_above = sqft_living for almost every value. Changed sqft_basement to new column with binary values, 0 for no basement and 1 for basement. The 170 records where sqft_basement + sqft_above != sqft_living will be assign to 1 (has basement)."
   ]
  },
  {
   "cell_type": "code",
   "execution_count": 22,
   "metadata": {},
   "outputs": [
    {
     "data": {
      "text/plain": [
       "Average      13900\n",
       "Good          5643\n",
       "Very Good     1687\n",
       "Fair           162\n",
       "Poor            28\n",
       "Name: condition, dtype: int64"
      ]
     },
     "execution_count": 22,
     "metadata": {},
     "output_type": "execute_result"
    }
   ],
   "source": [
    "df.condition.value_counts()"
   ]
  },
  {
   "cell_type": "code",
   "execution_count": 23,
   "metadata": {},
   "outputs": [],
   "source": [
    "df.condition.replace({'Poor': 1, 'Fair': 2, 'Average': 3, 'Good':4, 'Very Good': 5}, inplace = True)"
   ]
  },
  {
   "cell_type": "markdown",
   "metadata": {},
   "source": [
    "Condition values changed from ordinal to numeric for modeling purposes."
   ]
  },
  {
   "cell_type": "code",
   "execution_count": 24,
   "metadata": {},
   "outputs": [
    {
     "data": {
      "text/plain": [
       "7 Average        8889\n",
       "8 Good           6041\n",
       "9 Better         2606\n",
       "6 Low Average    1995\n",
       "10 Very Good     1130\n",
       "11 Excellent      396\n",
       "5 Fair            234\n",
       "12 Luxury          88\n",
       "4 Low              27\n",
       "13 Mansion         13\n",
       "3 Poor              1\n",
       "Name: grade, dtype: int64"
      ]
     },
     "execution_count": 24,
     "metadata": {},
     "output_type": "execute_result"
    }
   ],
   "source": [
    "df.grade.value_counts()"
   ]
  },
  {
   "cell_type": "code",
   "execution_count": 25,
   "metadata": {},
   "outputs": [],
   "source": [
    "df.grade = df.grade.str.extract('(\\d+)').astype(int)"
   ]
  },
  {
   "cell_type": "markdown",
   "metadata": {},
   "source": [
    "Grade feature we will keep only digit values and convert to numeric."
   ]
  },
  {
   "cell_type": "code",
   "execution_count": 26,
   "metadata": {},
   "outputs": [
    {
     "data": {
      "text/html": [
       "<div>\n",
       "<style scoped>\n",
       "    .dataframe tbody tr th:only-of-type {\n",
       "        vertical-align: middle;\n",
       "    }\n",
       "\n",
       "    .dataframe tbody tr th {\n",
       "        vertical-align: top;\n",
       "    }\n",
       "\n",
       "    .dataframe thead th {\n",
       "        text-align: right;\n",
       "    }\n",
       "</style>\n",
       "<table border=\"1\" class=\"dataframe\">\n",
       "  <thead>\n",
       "    <tr style=\"text-align: right;\">\n",
       "      <th></th>\n",
       "      <th>id</th>\n",
       "      <th>price</th>\n",
       "      <th>bedrooms</th>\n",
       "      <th>bathrooms</th>\n",
       "      <th>sqft_living</th>\n",
       "      <th>sqft_lot</th>\n",
       "      <th>floors</th>\n",
       "      <th>waterfront</th>\n",
       "      <th>view</th>\n",
       "      <th>condition</th>\n",
       "      <th>grade</th>\n",
       "      <th>sqft_above</th>\n",
       "      <th>basement</th>\n",
       "      <th>yr_built</th>\n",
       "      <th>zipcode</th>\n",
       "      <th>lat</th>\n",
       "      <th>long</th>\n",
       "      <th>sqft_living15</th>\n",
       "      <th>sqft_lot15</th>\n",
       "    </tr>\n",
       "  </thead>\n",
       "  <tbody>\n",
       "    <tr>\n",
       "      <th>count</th>\n",
       "      <td>2.142000e+04</td>\n",
       "      <td>2.142000e+04</td>\n",
       "      <td>21420.000000</td>\n",
       "      <td>21420.000000</td>\n",
       "      <td>21420.000000</td>\n",
       "      <td>2.142000e+04</td>\n",
       "      <td>21420.000000</td>\n",
       "      <td>21420.000000</td>\n",
       "      <td>21420.000000</td>\n",
       "      <td>21420.000000</td>\n",
       "      <td>21420.000000</td>\n",
       "      <td>21420.000000</td>\n",
       "      <td>21420.000000</td>\n",
       "      <td>21420.000000</td>\n",
       "      <td>21420.00000</td>\n",
       "      <td>21420.000000</td>\n",
       "      <td>21420.000000</td>\n",
       "      <td>21420.000000</td>\n",
       "      <td>21420.000000</td>\n",
       "    </tr>\n",
       "    <tr>\n",
       "      <th>mean</th>\n",
       "      <td>4.580940e+09</td>\n",
       "      <td>5.418614e+05</td>\n",
       "      <td>3.373950</td>\n",
       "      <td>2.118429</td>\n",
       "      <td>2083.132633</td>\n",
       "      <td>1.512804e+04</td>\n",
       "      <td>1.495985</td>\n",
       "      <td>0.006816</td>\n",
       "      <td>0.233987</td>\n",
       "      <td>3.410784</td>\n",
       "      <td>7.662792</td>\n",
       "      <td>1791.170215</td>\n",
       "      <td>0.393137</td>\n",
       "      <td>1971.092997</td>\n",
       "      <td>98077.87437</td>\n",
       "      <td>47.560197</td>\n",
       "      <td>-122.213784</td>\n",
       "      <td>1988.384080</td>\n",
       "      <td>12775.718161</td>\n",
       "    </tr>\n",
       "    <tr>\n",
       "      <th>std</th>\n",
       "      <td>2.876761e+09</td>\n",
       "      <td>3.675569e+05</td>\n",
       "      <td>0.925405</td>\n",
       "      <td>0.768720</td>\n",
       "      <td>918.808412</td>\n",
       "      <td>4.153080e+04</td>\n",
       "      <td>0.540081</td>\n",
       "      <td>0.082280</td>\n",
       "      <td>0.765437</td>\n",
       "      <td>0.650035</td>\n",
       "      <td>1.171971</td>\n",
       "      <td>828.692965</td>\n",
       "      <td>0.488458</td>\n",
       "      <td>29.387141</td>\n",
       "      <td>53.47748</td>\n",
       "      <td>0.138589</td>\n",
       "      <td>0.140791</td>\n",
       "      <td>685.537057</td>\n",
       "      <td>27345.621867</td>\n",
       "    </tr>\n",
       "    <tr>\n",
       "      <th>min</th>\n",
       "      <td>1.000102e+06</td>\n",
       "      <td>7.800000e+04</td>\n",
       "      <td>1.000000</td>\n",
       "      <td>0.500000</td>\n",
       "      <td>370.000000</td>\n",
       "      <td>5.200000e+02</td>\n",
       "      <td>1.000000</td>\n",
       "      <td>0.000000</td>\n",
       "      <td>0.000000</td>\n",
       "      <td>1.000000</td>\n",
       "      <td>3.000000</td>\n",
       "      <td>370.000000</td>\n",
       "      <td>0.000000</td>\n",
       "      <td>1900.000000</td>\n",
       "      <td>98001.00000</td>\n",
       "      <td>47.155900</td>\n",
       "      <td>-122.519000</td>\n",
       "      <td>399.000000</td>\n",
       "      <td>651.000000</td>\n",
       "    </tr>\n",
       "    <tr>\n",
       "      <th>25%</th>\n",
       "      <td>2.123537e+09</td>\n",
       "      <td>3.249500e+05</td>\n",
       "      <td>3.000000</td>\n",
       "      <td>1.750000</td>\n",
       "      <td>1430.000000</td>\n",
       "      <td>5.040000e+03</td>\n",
       "      <td>1.000000</td>\n",
       "      <td>0.000000</td>\n",
       "      <td>0.000000</td>\n",
       "      <td>3.000000</td>\n",
       "      <td>7.000000</td>\n",
       "      <td>1200.000000</td>\n",
       "      <td>0.000000</td>\n",
       "      <td>1952.000000</td>\n",
       "      <td>98033.00000</td>\n",
       "      <td>47.471200</td>\n",
       "      <td>-122.328000</td>\n",
       "      <td>1490.000000</td>\n",
       "      <td>5100.000000</td>\n",
       "    </tr>\n",
       "    <tr>\n",
       "      <th>50%</th>\n",
       "      <td>3.904921e+09</td>\n",
       "      <td>4.505500e+05</td>\n",
       "      <td>3.000000</td>\n",
       "      <td>2.250000</td>\n",
       "      <td>1920.000000</td>\n",
       "      <td>7.614000e+03</td>\n",
       "      <td>1.500000</td>\n",
       "      <td>0.000000</td>\n",
       "      <td>0.000000</td>\n",
       "      <td>3.000000</td>\n",
       "      <td>7.000000</td>\n",
       "      <td>1560.000000</td>\n",
       "      <td>0.000000</td>\n",
       "      <td>1975.000000</td>\n",
       "      <td>98065.00000</td>\n",
       "      <td>47.572100</td>\n",
       "      <td>-122.230000</td>\n",
       "      <td>1840.000000</td>\n",
       "      <td>7620.000000</td>\n",
       "    </tr>\n",
       "    <tr>\n",
       "      <th>75%</th>\n",
       "      <td>7.308900e+09</td>\n",
       "      <td>6.450000e+05</td>\n",
       "      <td>4.000000</td>\n",
       "      <td>2.500000</td>\n",
       "      <td>2550.000000</td>\n",
       "      <td>1.069050e+04</td>\n",
       "      <td>2.000000</td>\n",
       "      <td>0.000000</td>\n",
       "      <td>0.000000</td>\n",
       "      <td>4.000000</td>\n",
       "      <td>8.000000</td>\n",
       "      <td>2220.000000</td>\n",
       "      <td>1.000000</td>\n",
       "      <td>1997.000000</td>\n",
       "      <td>98117.00000</td>\n",
       "      <td>47.678100</td>\n",
       "      <td>-122.125000</td>\n",
       "      <td>2370.000000</td>\n",
       "      <td>10086.250000</td>\n",
       "    </tr>\n",
       "    <tr>\n",
       "      <th>max</th>\n",
       "      <td>9.900000e+09</td>\n",
       "      <td>7.700000e+06</td>\n",
       "      <td>33.000000</td>\n",
       "      <td>8.000000</td>\n",
       "      <td>13540.000000</td>\n",
       "      <td>1.651359e+06</td>\n",
       "      <td>3.500000</td>\n",
       "      <td>1.000000</td>\n",
       "      <td>4.000000</td>\n",
       "      <td>5.000000</td>\n",
       "      <td>13.000000</td>\n",
       "      <td>9410.000000</td>\n",
       "      <td>1.000000</td>\n",
       "      <td>2015.000000</td>\n",
       "      <td>98199.00000</td>\n",
       "      <td>47.777600</td>\n",
       "      <td>-121.315000</td>\n",
       "      <td>6210.000000</td>\n",
       "      <td>871200.000000</td>\n",
       "    </tr>\n",
       "  </tbody>\n",
       "</table>\n",
       "</div>"
      ],
      "text/plain": [
       "                 id         price      bedrooms     bathrooms   sqft_living  \\\n",
       "count  2.142000e+04  2.142000e+04  21420.000000  21420.000000  21420.000000   \n",
       "mean   4.580940e+09  5.418614e+05      3.373950      2.118429   2083.132633   \n",
       "std    2.876761e+09  3.675569e+05      0.925405      0.768720    918.808412   \n",
       "min    1.000102e+06  7.800000e+04      1.000000      0.500000    370.000000   \n",
       "25%    2.123537e+09  3.249500e+05      3.000000      1.750000   1430.000000   \n",
       "50%    3.904921e+09  4.505500e+05      3.000000      2.250000   1920.000000   \n",
       "75%    7.308900e+09  6.450000e+05      4.000000      2.500000   2550.000000   \n",
       "max    9.900000e+09  7.700000e+06     33.000000      8.000000  13540.000000   \n",
       "\n",
       "           sqft_lot        floors    waterfront          view     condition  \\\n",
       "count  2.142000e+04  21420.000000  21420.000000  21420.000000  21420.000000   \n",
       "mean   1.512804e+04      1.495985      0.006816      0.233987      3.410784   \n",
       "std    4.153080e+04      0.540081      0.082280      0.765437      0.650035   \n",
       "min    5.200000e+02      1.000000      0.000000      0.000000      1.000000   \n",
       "25%    5.040000e+03      1.000000      0.000000      0.000000      3.000000   \n",
       "50%    7.614000e+03      1.500000      0.000000      0.000000      3.000000   \n",
       "75%    1.069050e+04      2.000000      0.000000      0.000000      4.000000   \n",
       "max    1.651359e+06      3.500000      1.000000      4.000000      5.000000   \n",
       "\n",
       "              grade    sqft_above      basement      yr_built      zipcode  \\\n",
       "count  21420.000000  21420.000000  21420.000000  21420.000000  21420.00000   \n",
       "mean       7.662792   1791.170215      0.393137   1971.092997  98077.87437   \n",
       "std        1.171971    828.692965      0.488458     29.387141     53.47748   \n",
       "min        3.000000    370.000000      0.000000   1900.000000  98001.00000   \n",
       "25%        7.000000   1200.000000      0.000000   1952.000000  98033.00000   \n",
       "50%        7.000000   1560.000000      0.000000   1975.000000  98065.00000   \n",
       "75%        8.000000   2220.000000      1.000000   1997.000000  98117.00000   \n",
       "max       13.000000   9410.000000      1.000000   2015.000000  98199.00000   \n",
       "\n",
       "                lat          long  sqft_living15     sqft_lot15  \n",
       "count  21420.000000  21420.000000   21420.000000   21420.000000  \n",
       "mean      47.560197   -122.213784    1988.384080   12775.718161  \n",
       "std        0.138589      0.140791     685.537057   27345.621867  \n",
       "min       47.155900   -122.519000     399.000000     651.000000  \n",
       "25%       47.471200   -122.328000    1490.000000    5100.000000  \n",
       "50%       47.572100   -122.230000    1840.000000    7620.000000  \n",
       "75%       47.678100   -122.125000    2370.000000   10086.250000  \n",
       "max       47.777600   -121.315000    6210.000000  871200.000000  "
      ]
     },
     "execution_count": 26,
     "metadata": {},
     "output_type": "execute_result"
    }
   ],
   "source": [
    "df.describe()"
   ]
  },
  {
   "cell_type": "markdown",
   "metadata": {},
   "source": [
    "Quick summary shows an odd outlier for bedrooms. Upon examination this could be a typo, I changed value to 3."
   ]
  },
  {
   "cell_type": "code",
   "execution_count": 27,
   "metadata": {},
   "outputs": [
    {
     "data": {
      "text/html": [
       "<div>\n",
       "<style scoped>\n",
       "    .dataframe tbody tr th:only-of-type {\n",
       "        vertical-align: middle;\n",
       "    }\n",
       "\n",
       "    .dataframe tbody tr th {\n",
       "        vertical-align: top;\n",
       "    }\n",
       "\n",
       "    .dataframe thead th {\n",
       "        text-align: right;\n",
       "    }\n",
       "</style>\n",
       "<table border=\"1\" class=\"dataframe\">\n",
       "  <thead>\n",
       "    <tr style=\"text-align: right;\">\n",
       "      <th></th>\n",
       "      <th>id</th>\n",
       "      <th>date</th>\n",
       "      <th>price</th>\n",
       "      <th>bedrooms</th>\n",
       "      <th>bathrooms</th>\n",
       "      <th>sqft_living</th>\n",
       "      <th>sqft_lot</th>\n",
       "      <th>floors</th>\n",
       "      <th>waterfront</th>\n",
       "      <th>view</th>\n",
       "      <th>condition</th>\n",
       "      <th>grade</th>\n",
       "      <th>sqft_above</th>\n",
       "      <th>basement</th>\n",
       "      <th>yr_built</th>\n",
       "      <th>zipcode</th>\n",
       "      <th>lat</th>\n",
       "      <th>long</th>\n",
       "      <th>sqft_living15</th>\n",
       "      <th>sqft_lot15</th>\n",
       "    </tr>\n",
       "  </thead>\n",
       "  <tbody>\n",
       "    <tr>\n",
       "      <th>15856</th>\n",
       "      <td>2402100895</td>\n",
       "      <td>6/25/2014</td>\n",
       "      <td>640000.0</td>\n",
       "      <td>33</td>\n",
       "      <td>1.75</td>\n",
       "      <td>1620</td>\n",
       "      <td>6000</td>\n",
       "      <td>1.0</td>\n",
       "      <td>0</td>\n",
       "      <td>0</td>\n",
       "      <td>5</td>\n",
       "      <td>7</td>\n",
       "      <td>1040</td>\n",
       "      <td>1.0</td>\n",
       "      <td>1947</td>\n",
       "      <td>98103</td>\n",
       "      <td>47.6878</td>\n",
       "      <td>-122.331</td>\n",
       "      <td>1330</td>\n",
       "      <td>4700</td>\n",
       "    </tr>\n",
       "  </tbody>\n",
       "</table>\n",
       "</div>"
      ],
      "text/plain": [
       "               id       date     price  bedrooms  bathrooms  sqft_living  \\\n",
       "15856  2402100895  6/25/2014  640000.0        33       1.75         1620   \n",
       "\n",
       "       sqft_lot  floors  waterfront  view  condition  grade  sqft_above  \\\n",
       "15856      6000     1.0           0     0          5      7        1040   \n",
       "\n",
       "       basement  yr_built  zipcode      lat     long  sqft_living15  \\\n",
       "15856       1.0      1947    98103  47.6878 -122.331           1330   \n",
       "\n",
       "       sqft_lot15  \n",
       "15856        4700  "
      ]
     },
     "execution_count": 27,
     "metadata": {},
     "output_type": "execute_result"
    }
   ],
   "source": [
    "df[df.bedrooms == 33]"
   ]
  },
  {
   "cell_type": "code",
   "execution_count": 28,
   "metadata": {},
   "outputs": [],
   "source": [
    "df.loc[df.bedrooms == 33, 'bedrooms'] = 3"
   ]
  },
  {
   "cell_type": "code",
   "execution_count": 29,
   "metadata": {},
   "outputs": [
    {
     "data": {
      "text/plain": [
       "2.50    5352\n",
       "1.00    3794\n",
       "1.75    3020\n",
       "2.25    2031\n",
       "2.00    1913\n",
       "1.50    1429\n",
       "2.75    1182\n",
       "3.00     747\n",
       "3.50     729\n",
       "3.25     586\n",
       "3.75     155\n",
       "4.00     134\n",
       "4.50      99\n",
       "4.25      79\n",
       "0.75      70\n",
       "4.75      23\n",
       "5.00      21\n",
       "5.25      13\n",
       "5.50      10\n",
       "1.25       9\n",
       "6.00       6\n",
       "5.75       4\n",
       "0.50       4\n",
       "8.00       2\n",
       "6.25       2\n",
       "6.75       2\n",
       "6.50       2\n",
       "7.50       1\n",
       "7.75       1\n",
       "Name: bathrooms, dtype: int64"
      ]
     },
     "execution_count": 29,
     "metadata": {},
     "output_type": "execute_result"
    }
   ],
   "source": [
    "df.bathrooms.value_counts()"
   ]
  },
  {
   "cell_type": "code",
   "execution_count": 30,
   "metadata": {},
   "outputs": [],
   "source": [
    "df.bathrooms = df.bathrooms.map(np.ceil)"
   ]
  },
  {
   "cell_type": "markdown",
   "metadata": {},
   "source": [
    "I decide to treat 1/4, 1/2, and 3/4 bathrooms as whole bathrooms, for easier interpretation."
   ]
  },
  {
   "cell_type": "code",
   "execution_count": 31,
   "metadata": {},
   "outputs": [
    {
     "data": {
      "image/png": "[encoded data removed]",
      "text/plain": [
       "<Figure size 1440x1440 with 20 Axes>"
      ]
     },
     "metadata": {
      "needs_background": "light"
     },
     "output_type": "display_data"
    }
   ],
   "source": [
    "# take a quick look at distribution of each variable\n",
    "df.hist(figsize = (20,20));"
   ]
  },
  {
   "cell_type": "markdown",
   "metadata": {},
   "source": [
    "### Dealing with outliers"
   ]
  },
  {
   "cell_type": "markdown",
   "metadata": {},
   "source": [
    "For model optimization, i decide to remove any values in feature that represent less than 1% of the data."
   ]
  },
  {
   "cell_type": "code",
   "execution_count": 32,
   "metadata": {},
   "outputs": [
    {
     "data": {
      "text/plain": [
       "3     0.454342\n",
       "4     0.319748\n",
       "2     0.127731\n",
       "5     0.074043\n",
       "6     0.012372\n",
       "1     0.008917\n",
       "7     0.001774\n",
       "8     0.000607\n",
       "9     0.000280\n",
       "10    0.000140\n",
       "11    0.000047\n",
       "Name: bedrooms, dtype: float64"
      ]
     },
     "execution_count": 32,
     "metadata": {},
     "output_type": "execute_result"
    }
   ],
   "source": [
    "df.bedrooms.value_counts(normalize = True)"
   ]
  },
  {
   "cell_type": "code",
   "execution_count": 33,
   "metadata": {},
   "outputs": [],
   "source": [
    "df.drop(df[(df.bedrooms < 2) | (df.bedrooms > 6)].index, inplace = True)"
   ]
  },
  {
   "cell_type": "code",
   "execution_count": 34,
   "metadata": {},
   "outputs": [
    {
     "data": {
      "text/plain": [
       "3.0    0.438634\n",
       "2.0    0.299745\n",
       "1.0    0.175028\n",
       "4.0    0.074877\n",
       "5.0    0.010015\n",
       "6.0    0.001370\n",
       "7.0    0.000236\n",
       "8.0    0.000094\n",
       "Name: bathrooms, dtype: float64"
      ]
     },
     "execution_count": 34,
     "metadata": {},
     "output_type": "execute_result"
    }
   ],
   "source": [
    "df.bathrooms.value_counts(normalize = True)"
   ]
  },
  {
   "cell_type": "code",
   "execution_count": 35,
   "metadata": {},
   "outputs": [],
   "source": [
    "df.drop(df[df.bathrooms > 4].index, inplace = True)"
   ]
  },
  {
   "cell_type": "code",
   "execution_count": 36,
   "metadata": {},
   "outputs": [
    {
     "data": {
      "text/plain": [
       "3    0.647275\n",
       "4    0.265057\n",
       "5    0.079207\n",
       "2    0.007314\n",
       "1    0.001147\n",
       "Name: condition, dtype: float64"
      ]
     },
     "execution_count": 36,
     "metadata": {},
     "output_type": "execute_result"
    }
   ],
   "source": [
    "df.condition.value_counts(normalize = True)"
   ]
  },
  {
   "cell_type": "code",
   "execution_count": 37,
   "metadata": {},
   "outputs": [],
   "source": [
    "df.drop(df[df.condition < 3].index, inplace = True)"
   ]
  },
  {
   "cell_type": "code",
   "execution_count": 38,
   "metadata": {},
   "outputs": [
    {
     "data": {
      "text/plain": [
       "7     0.420527\n",
       "8     0.288001\n",
       "9     0.123897\n",
       "6     0.089572\n",
       "10    0.050764\n",
       "11    0.014993\n",
       "5     0.008726\n",
       "12    0.002700\n",
       "4     0.000627\n",
       "13    0.000193\n",
       "Name: grade, dtype: float64"
      ]
     },
     "execution_count": 38,
     "metadata": {},
     "output_type": "execute_result"
    }
   ],
   "source": [
    "df.grade.value_counts(normalize = True)"
   ]
  },
  {
   "cell_type": "code",
   "execution_count": 39,
   "metadata": {},
   "outputs": [],
   "source": [
    "df.drop(df[(df.grade < 5) | (df.grade > 11)].index, inplace = True)"
   ]
  },
  {
   "cell_type": "code",
   "execution_count": 40,
   "metadata": {},
   "outputs": [
    {
     "name": "stdout",
     "output_type": "stream",
     "text": [
      "<class 'pandas.core.frame.DataFrame'>\n",
      "Int64Index: 20670 entries, 0 to 21596\n",
      "Data columns (total 20 columns):\n",
      " #   Column         Non-Null Count  Dtype  \n",
      "---  ------         --------------  -----  \n",
      " 0   id             20670 non-null  int64  \n",
      " 1   date           20670 non-null  object \n",
      " 2   price          20670 non-null  float64\n",
      " 3   bedrooms       20670 non-null  int64  \n",
      " 4   bathrooms      20670 non-null  float64\n",
      " 5   sqft_living    20670 non-null  int64  \n",
      " 6   sqft_lot       20670 non-null  int64  \n",
      " 7   floors         20670 non-null  float64\n",
      " 8   waterfront     20670 non-null  int64  \n",
      " 9   view           20670 non-null  int64  \n",
      " 10  condition      20670 non-null  int64  \n",
      " 11  grade          20670 non-null  int32  \n",
      " 12  sqft_above     20670 non-null  int64  \n",
      " 13  basement       20670 non-null  float64\n",
      " 14  yr_built       20670 non-null  int64  \n",
      " 15  zipcode        20670 non-null  int64  \n",
      " 16  lat            20670 non-null  float64\n",
      " 17  long           20670 non-null  float64\n",
      " 18  sqft_living15  20670 non-null  int64  \n",
      " 19  sqft_lot15     20670 non-null  int64  \n",
      "dtypes: float64(6), int32(1), int64(12), object(1)\n",
      "memory usage: 3.2+ MB\n"
     ]
    }
   ],
   "source": [
    "df.info()"
   ]
  },
  {
   "cell_type": "code",
   "execution_count": 41,
   "metadata": {},
   "outputs": [
    {
     "data": {
      "text/plain": [
       "231"
      ]
     },
     "execution_count": 41,
     "metadata": {},
     "output_type": "execute_result"
    }
   ],
   "source": [
    "(df.sqft_lot > 200000).sum()"
   ]
  },
  {
   "cell_type": "code",
   "execution_count": 42,
   "metadata": {},
   "outputs": [],
   "source": [
    "df.drop(df[df.sqft_lot > 200000].index, inplace = True)"
   ]
  },
  {
   "cell_type": "code",
   "execution_count": 43,
   "metadata": {},
   "outputs": [],
   "source": [
    "counts = df.zipcode.value_counts(normalize = True)"
   ]
  },
  {
   "cell_type": "code",
   "execution_count": 44,
   "metadata": {},
   "outputs": [],
   "source": [
    "df = df[~df.zipcode.isin(counts[counts < 0.01].index)]"
   ]
  },
  {
   "cell_type": "code",
   "execution_count": 45,
   "metadata": {},
   "outputs": [
    {
     "name": "stdout",
     "output_type": "stream",
     "text": [
      "<class 'pandas.core.frame.DataFrame'>\n",
      "Int64Index: 17796 entries, 0 to 21596\n",
      "Data columns (total 20 columns):\n",
      " #   Column         Non-Null Count  Dtype  \n",
      "---  ------         --------------  -----  \n",
      " 0   id             17796 non-null  int64  \n",
      " 1   date           17796 non-null  object \n",
      " 2   price          17796 non-null  float64\n",
      " 3   bedrooms       17796 non-null  int64  \n",
      " 4   bathrooms      17796 non-null  float64\n",
      " 5   sqft_living    17796 non-null  int64  \n",
      " 6   sqft_lot       17796 non-null  int64  \n",
      " 7   floors         17796 non-null  float64\n",
      " 8   waterfront     17796 non-null  int64  \n",
      " 9   view           17796 non-null  int64  \n",
      " 10  condition      17796 non-null  int64  \n",
      " 11  grade          17796 non-null  int32  \n",
      " 12  sqft_above     17796 non-null  int64  \n",
      " 13  basement       17796 non-null  float64\n",
      " 14  yr_built       17796 non-null  int64  \n",
      " 15  zipcode        17796 non-null  int64  \n",
      " 16  lat            17796 non-null  float64\n",
      " 17  long           17796 non-null  float64\n",
      " 18  sqft_living15  17796 non-null  int64  \n",
      " 19  sqft_lot15     17796 non-null  int64  \n",
      "dtypes: float64(6), int32(1), int64(12), object(1)\n",
      "memory usage: 2.8+ MB\n"
     ]
    }
   ],
   "source": [
    "df.info()"
   ]
  },
  {
   "cell_type": "code",
   "execution_count": 112,
   "metadata": {},
   "outputs": [
    {
     "data": {
      "text/html": [
       "<div>\n",
       "<style scoped>\n",
       "    .dataframe tbody tr th:only-of-type {\n",
       "        vertical-align: middle;\n",
       "    }\n",
       "\n",
       "    .dataframe tbody tr th {\n",
       "        vertical-align: top;\n",
       "    }\n",
       "\n",
       "    .dataframe thead th {\n",
       "        text-align: right;\n",
       "    }\n",
       "</style>\n",
       "<table border=\"1\" class=\"dataframe\">\n",
       "  <thead>\n",
       "    <tr style=\"text-align: right;\">\n",
       "      <th></th>\n",
       "      <th>price</th>\n",
       "      <th>bedrooms</th>\n",
       "      <th>bathrooms</th>\n",
       "      <th>sqft_living</th>\n",
       "      <th>sqft_lot</th>\n",
       "      <th>floors</th>\n",
       "      <th>waterfront</th>\n",
       "      <th>view</th>\n",
       "      <th>condition</th>\n",
       "      <th>grade</th>\n",
       "      <th>sqft_above</th>\n",
       "      <th>basement</th>\n",
       "      <th>sqft_living15</th>\n",
       "      <th>sqft_lot15</th>\n",
       "      <th>house_age</th>\n",
       "    </tr>\n",
       "  </thead>\n",
       "  <tbody>\n",
       "    <tr>\n",
       "      <th>count</th>\n",
       "      <td>1.779600e+04</td>\n",
       "      <td>17796.000000</td>\n",
       "      <td>17796.00000</td>\n",
       "      <td>17796.000000</td>\n",
       "      <td>17796.000000</td>\n",
       "      <td>17796.000000</td>\n",
       "      <td>17796.000000</td>\n",
       "      <td>17796.000000</td>\n",
       "      <td>17796.000000</td>\n",
       "      <td>17796.000000</td>\n",
       "      <td>17796.000000</td>\n",
       "      <td>17796.000000</td>\n",
       "      <td>17796.000000</td>\n",
       "      <td>17796.000000</td>\n",
       "      <td>17796.000000</td>\n",
       "    </tr>\n",
       "    <tr>\n",
       "      <th>mean</th>\n",
       "      <td>5.278620e+05</td>\n",
       "      <td>3.369858</td>\n",
       "      <td>2.42105</td>\n",
       "      <td>2046.780119</td>\n",
       "      <td>10390.897505</td>\n",
       "      <td>1.496319</td>\n",
       "      <td>0.005507</td>\n",
       "      <td>0.219656</td>\n",
       "      <td>3.425433</td>\n",
       "      <td>7.644639</td>\n",
       "      <td>1755.260789</td>\n",
       "      <td>0.401382</td>\n",
       "      <td>1973.232637</td>\n",
       "      <td>9635.004945</td>\n",
       "      <td>42.996460</td>\n",
       "    </tr>\n",
       "    <tr>\n",
       "      <th>std</th>\n",
       "      <td>3.076427e+05</td>\n",
       "      <td>0.836226</td>\n",
       "      <td>0.86342</td>\n",
       "      <td>824.713704</td>\n",
       "      <td>14388.996247</td>\n",
       "      <td>0.543939</td>\n",
       "      <td>0.074006</td>\n",
       "      <td>0.738777</td>\n",
       "      <td>0.636532</td>\n",
       "      <td>1.085517</td>\n",
       "      <td>760.644940</td>\n",
       "      <td>0.490192</td>\n",
       "      <td>658.976262</td>\n",
       "      <td>13135.624092</td>\n",
       "      <td>29.175595</td>\n",
       "    </tr>\n",
       "    <tr>\n",
       "      <th>min</th>\n",
       "      <td>8.300000e+04</td>\n",
       "      <td>2.000000</td>\n",
       "      <td>1.00000</td>\n",
       "      <td>540.000000</td>\n",
       "      <td>520.000000</td>\n",
       "      <td>1.000000</td>\n",
       "      <td>0.000000</td>\n",
       "      <td>0.000000</td>\n",
       "      <td>3.000000</td>\n",
       "      <td>5.000000</td>\n",
       "      <td>480.000000</td>\n",
       "      <td>0.000000</td>\n",
       "      <td>399.000000</td>\n",
       "      <td>651.000000</td>\n",
       "      <td>-1.000000</td>\n",
       "    </tr>\n",
       "    <tr>\n",
       "      <th>25%</th>\n",
       "      <td>3.290000e+05</td>\n",
       "      <td>3.000000</td>\n",
       "      <td>2.00000</td>\n",
       "      <td>1430.000000</td>\n",
       "      <td>5000.000000</td>\n",
       "      <td>1.000000</td>\n",
       "      <td>0.000000</td>\n",
       "      <td>0.000000</td>\n",
       "      <td>3.000000</td>\n",
       "      <td>7.000000</td>\n",
       "      <td>1190.000000</td>\n",
       "      <td>0.000000</td>\n",
       "      <td>1490.000000</td>\n",
       "      <td>5000.000000</td>\n",
       "      <td>17.000000</td>\n",
       "    </tr>\n",
       "    <tr>\n",
       "      <th>50%</th>\n",
       "      <td>4.510000e+05</td>\n",
       "      <td>3.000000</td>\n",
       "      <td>3.00000</td>\n",
       "      <td>1910.000000</td>\n",
       "      <td>7352.000000</td>\n",
       "      <td>1.500000</td>\n",
       "      <td>0.000000</td>\n",
       "      <td>0.000000</td>\n",
       "      <td>3.000000</td>\n",
       "      <td>7.000000</td>\n",
       "      <td>1550.000000</td>\n",
       "      <td>0.000000</td>\n",
       "      <td>1830.000000</td>\n",
       "      <td>7427.000000</td>\n",
       "      <td>40.000000</td>\n",
       "    </tr>\n",
       "    <tr>\n",
       "      <th>75%</th>\n",
       "      <td>6.380375e+05</td>\n",
       "      <td>4.000000</td>\n",
       "      <td>3.00000</td>\n",
       "      <td>2510.000000</td>\n",
       "      <td>10000.000000</td>\n",
       "      <td>2.000000</td>\n",
       "      <td>0.000000</td>\n",
       "      <td>0.000000</td>\n",
       "      <td>4.000000</td>\n",
       "      <td>8.000000</td>\n",
       "      <td>2170.000000</td>\n",
       "      <td>1.000000</td>\n",
       "      <td>2350.000000</td>\n",
       "      <td>9623.000000</td>\n",
       "      <td>63.000000</td>\n",
       "    </tr>\n",
       "    <tr>\n",
       "      <th>max</th>\n",
       "      <td>3.600000e+06</td>\n",
       "      <td>6.000000</td>\n",
       "      <td>4.00000</td>\n",
       "      <td>7620.000000</td>\n",
       "      <td>199940.000000</td>\n",
       "      <td>3.500000</td>\n",
       "      <td>1.000000</td>\n",
       "      <td>4.000000</td>\n",
       "      <td>5.000000</td>\n",
       "      <td>11.000000</td>\n",
       "      <td>5990.000000</td>\n",
       "      <td>1.000000</td>\n",
       "      <td>5790.000000</td>\n",
       "      <td>297514.000000</td>\n",
       "      <td>115.000000</td>\n",
       "    </tr>\n",
       "  </tbody>\n",
       "</table>\n",
       "</div>"
      ],
      "text/plain": [
       "              price      bedrooms    bathrooms   sqft_living       sqft_lot  \\\n",
       "count  1.779600e+04  17796.000000  17796.00000  17796.000000   17796.000000   \n",
       "mean   5.278620e+05      3.369858      2.42105   2046.780119   10390.897505   \n",
       "std    3.076427e+05      0.836226      0.86342    824.713704   14388.996247   \n",
       "min    8.300000e+04      2.000000      1.00000    540.000000     520.000000   \n",
       "25%    3.290000e+05      3.000000      2.00000   1430.000000    5000.000000   \n",
       "50%    4.510000e+05      3.000000      3.00000   1910.000000    7352.000000   \n",
       "75%    6.380375e+05      4.000000      3.00000   2510.000000   10000.000000   \n",
       "max    3.600000e+06      6.000000      4.00000   7620.000000  199940.000000   \n",
       "\n",
       "             floors    waterfront          view     condition         grade  \\\n",
       "count  17796.000000  17796.000000  17796.000000  17796.000000  17796.000000   \n",
       "mean       1.496319      0.005507      0.219656      3.425433      7.644639   \n",
       "std        0.543939      0.074006      0.738777      0.636532      1.085517   \n",
       "min        1.000000      0.000000      0.000000      3.000000      5.000000   \n",
       "25%        1.000000      0.000000      0.000000      3.000000      7.000000   \n",
       "50%        1.500000      0.000000      0.000000      3.000000      7.000000   \n",
       "75%        2.000000      0.000000      0.000000      4.000000      8.000000   \n",
       "max        3.500000      1.000000      4.000000      5.000000     11.000000   \n",
       "\n",
       "         sqft_above      basement  sqft_living15     sqft_lot15     house_age  \n",
       "count  17796.000000  17796.000000   17796.000000   17796.000000  17796.000000  \n",
       "mean    1755.260789      0.401382    1973.232637    9635.004945     42.996460  \n",
       "std      760.644940      0.490192     658.976262   13135.624092     29.175595  \n",
       "min      480.000000      0.000000     399.000000     651.000000     -1.000000  \n",
       "25%     1190.000000      0.000000    1490.000000    5000.000000     17.000000  \n",
       "50%     1550.000000      0.000000    1830.000000    7427.000000     40.000000  \n",
       "75%     2170.000000      1.000000    2350.000000    9623.000000     63.000000  \n",
       "max     5990.000000      1.000000    5790.000000  297514.000000    115.000000  "
      ]
     },
     "execution_count": 112,
     "metadata": {},
     "output_type": "execute_result"
    }
   ],
   "source": [
    "df.describe()"
   ]
  },
  {
   "cell_type": "code",
   "execution_count": 113,
   "metadata": {},
   "outputs": [
    {
     "data": {
      "image/png": "[encoded data removed]",
      "text/plain": [
       "<Figure size 1440x1440 with 16 Axes>"
      ]
     },
     "metadata": {
      "needs_background": "light"
     },
     "output_type": "display_data"
    }
   ],
   "source": [
    "df.hist(figsize = (20,20));"
   ]
  },
  {
   "cell_type": "markdown",
   "metadata": {},
   "source": [
    "### Feature Engineering\n"
   ]
  },
  {
   "cell_type": "markdown",
   "metadata": {},
   "source": [
    "Create a new column representing age of the property."
   ]
  },
  {
   "cell_type": "code",
   "execution_count": 46,
   "metadata": {},
   "outputs": [],
   "source": [
    "df.date = pd.to_datetime(df.date)\n",
    "df['house_age'] = df.date.dt.year - df.yr_built"
   ]
  },
  {
   "cell_type": "markdown",
   "metadata": {},
   "source": [
    "To help cut down the size of unique zipcode variables, I bring in data on which cities the zipcodes belong to."
   ]
  },
  {
   "cell_type": "code",
   "execution_count": 47,
   "metadata": {},
   "outputs": [
    {
     "data": {
      "text/plain": [
       "50"
      ]
     },
     "execution_count": 47,
     "metadata": {},
     "output_type": "execute_result"
    }
   ],
   "source": [
    "df.zipcode.value_counts().size"
   ]
  },
  {
   "cell_type": "code",
   "execution_count": 48,
   "metadata": {},
   "outputs": [],
   "source": [
    "data = pd.read_csv('data/zip_code_database.csv')\n",
    "zip_king = data[(data.county == 'King County') & (data.state == 'WA') & (data['type'] == 'STANDARD')]"
   ]
  },
  {
   "cell_type": "code",
   "execution_count": 49,
   "metadata": {},
   "outputs": [
    {
     "data": {
      "text/html": [
       "<div>\n",
       "<style scoped>\n",
       "    .dataframe tbody tr th:only-of-type {\n",
       "        vertical-align: middle;\n",
       "    }\n",
       "\n",
       "    .dataframe tbody tr th {\n",
       "        vertical-align: top;\n",
       "    }\n",
       "\n",
       "    .dataframe thead th {\n",
       "        text-align: right;\n",
       "    }\n",
       "</style>\n",
       "<table border=\"1\" class=\"dataframe\">\n",
       "  <thead>\n",
       "    <tr style=\"text-align: right;\">\n",
       "      <th></th>\n",
       "      <th>zip</th>\n",
       "      <th>type</th>\n",
       "      <th>decommissioned</th>\n",
       "      <th>primary_city</th>\n",
       "      <th>acceptable_cities</th>\n",
       "      <th>unacceptable_cities</th>\n",
       "      <th>state</th>\n",
       "      <th>county</th>\n",
       "      <th>timezone</th>\n",
       "      <th>area_codes</th>\n",
       "      <th>world_region</th>\n",
       "      <th>country</th>\n",
       "      <th>latitude</th>\n",
       "      <th>longitude</th>\n",
       "      <th>irs_estimated_population</th>\n",
       "    </tr>\n",
       "  </thead>\n",
       "  <tbody>\n",
       "    <tr>\n",
       "      <th>41717</th>\n",
       "      <td>98001</td>\n",
       "      <td>STANDARD</td>\n",
       "      <td>0</td>\n",
       "      <td>Auburn</td>\n",
       "      <td>Algona, Federal Way</td>\n",
       "      <td>NaN</td>\n",
       "      <td>WA</td>\n",
       "      <td>King County</td>\n",
       "      <td>America/Los_Angeles</td>\n",
       "      <td>253</td>\n",
       "      <td>NaN</td>\n",
       "      <td>US</td>\n",
       "      <td>47.30</td>\n",
       "      <td>-122.26</td>\n",
       "      <td>33430</td>\n",
       "    </tr>\n",
       "    <tr>\n",
       "      <th>41718</th>\n",
       "      <td>98002</td>\n",
       "      <td>STANDARD</td>\n",
       "      <td>0</td>\n",
       "      <td>Auburn</td>\n",
       "      <td>NaN</td>\n",
       "      <td>NaN</td>\n",
       "      <td>WA</td>\n",
       "      <td>King County</td>\n",
       "      <td>America/Los_Angeles</td>\n",
       "      <td>253</td>\n",
       "      <td>NaN</td>\n",
       "      <td>US</td>\n",
       "      <td>47.31</td>\n",
       "      <td>-122.22</td>\n",
       "      <td>32480</td>\n",
       "    </tr>\n",
       "    <tr>\n",
       "      <th>41719</th>\n",
       "      <td>98003</td>\n",
       "      <td>STANDARD</td>\n",
       "      <td>0</td>\n",
       "      <td>Federal Way</td>\n",
       "      <td>Auburn</td>\n",
       "      <td>NaN</td>\n",
       "      <td>WA</td>\n",
       "      <td>King County</td>\n",
       "      <td>America/Los_Angeles</td>\n",
       "      <td>253</td>\n",
       "      <td>NaN</td>\n",
       "      <td>US</td>\n",
       "      <td>47.30</td>\n",
       "      <td>-122.31</td>\n",
       "      <td>43690</td>\n",
       "    </tr>\n",
       "    <tr>\n",
       "      <th>41720</th>\n",
       "      <td>98004</td>\n",
       "      <td>STANDARD</td>\n",
       "      <td>0</td>\n",
       "      <td>Bellevue</td>\n",
       "      <td>Beaux Arts, Clyde Hill, Hunts Point, Yarrow Point</td>\n",
       "      <td>Beaux Arts Village</td>\n",
       "      <td>WA</td>\n",
       "      <td>King County</td>\n",
       "      <td>America/Los_Angeles</td>\n",
       "      <td>425</td>\n",
       "      <td>NaN</td>\n",
       "      <td>US</td>\n",
       "      <td>47.61</td>\n",
       "      <td>-122.21</td>\n",
       "      <td>33200</td>\n",
       "    </tr>\n",
       "    <tr>\n",
       "      <th>41721</th>\n",
       "      <td>98005</td>\n",
       "      <td>STANDARD</td>\n",
       "      <td>0</td>\n",
       "      <td>Bellevue</td>\n",
       "      <td>NaN</td>\n",
       "      <td>NaN</td>\n",
       "      <td>WA</td>\n",
       "      <td>King County</td>\n",
       "      <td>America/Los_Angeles</td>\n",
       "      <td>425</td>\n",
       "      <td>NaN</td>\n",
       "      <td>US</td>\n",
       "      <td>47.62</td>\n",
       "      <td>-122.16</td>\n",
       "      <td>19280</td>\n",
       "    </tr>\n",
       "  </tbody>\n",
       "</table>\n",
       "</div>"
      ],
      "text/plain": [
       "         zip      type  decommissioned primary_city  \\\n",
       "41717  98001  STANDARD               0       Auburn   \n",
       "41718  98002  STANDARD               0       Auburn   \n",
       "41719  98003  STANDARD               0  Federal Way   \n",
       "41720  98004  STANDARD               0     Bellevue   \n",
       "41721  98005  STANDARD               0     Bellevue   \n",
       "\n",
       "                                       acceptable_cities unacceptable_cities  \\\n",
       "41717                                Algona, Federal Way                 NaN   \n",
       "41718                                                NaN                 NaN   \n",
       "41719                                             Auburn                 NaN   \n",
       "41720  Beaux Arts, Clyde Hill, Hunts Point, Yarrow Point  Beaux Arts Village   \n",
       "41721                                                NaN                 NaN   \n",
       "\n",
       "      state       county             timezone area_codes world_region country  \\\n",
       "41717    WA  King County  America/Los_Angeles        253          NaN      US   \n",
       "41718    WA  King County  America/Los_Angeles        253          NaN      US   \n",
       "41719    WA  King County  America/Los_Angeles        253          NaN      US   \n",
       "41720    WA  King County  America/Los_Angeles        425          NaN      US   \n",
       "41721    WA  King County  America/Los_Angeles        425          NaN      US   \n",
       "\n",
       "       latitude  longitude  irs_estimated_population  \n",
       "41717     47.30    -122.26                     33430  \n",
       "41718     47.31    -122.22                     32480  \n",
       "41719     47.30    -122.31                     43690  \n",
       "41720     47.61    -122.21                     33200  \n",
       "41721     47.62    -122.16                     19280  "
      ]
     },
     "execution_count": 49,
     "metadata": {},
     "output_type": "execute_result"
    }
   ],
   "source": [
    "zip_king.head()"
   ]
  },
  {
   "cell_type": "code",
   "execution_count": 50,
   "metadata": {},
   "outputs": [],
   "source": [
    "king_cities = zip_king[['zip', 'primary_city']]"
   ]
  },
  {
   "cell_type": "code",
   "execution_count": 51,
   "metadata": {},
   "outputs": [],
   "source": [
    "df = pd.merge(df, king_cities, left_on='zipcode', right_on='zip', how='left') "
   ]
  },
  {
   "cell_type": "code",
   "execution_count": 52,
   "metadata": {},
   "outputs": [
    {
     "data": {
      "text/html": [
       "<div>\n",
       "<style scoped>\n",
       "    .dataframe tbody tr th:only-of-type {\n",
       "        vertical-align: middle;\n",
       "    }\n",
       "\n",
       "    .dataframe tbody tr th {\n",
       "        vertical-align: top;\n",
       "    }\n",
       "\n",
       "    .dataframe thead th {\n",
       "        text-align: right;\n",
       "    }\n",
       "</style>\n",
       "<table border=\"1\" class=\"dataframe\">\n",
       "  <thead>\n",
       "    <tr style=\"text-align: right;\">\n",
       "      <th></th>\n",
       "      <th>id</th>\n",
       "      <th>date</th>\n",
       "      <th>price</th>\n",
       "      <th>bedrooms</th>\n",
       "      <th>bathrooms</th>\n",
       "      <th>sqft_living</th>\n",
       "      <th>sqft_lot</th>\n",
       "      <th>floors</th>\n",
       "      <th>waterfront</th>\n",
       "      <th>view</th>\n",
       "      <th>...</th>\n",
       "      <th>basement</th>\n",
       "      <th>yr_built</th>\n",
       "      <th>zipcode</th>\n",
       "      <th>lat</th>\n",
       "      <th>long</th>\n",
       "      <th>sqft_living15</th>\n",
       "      <th>sqft_lot15</th>\n",
       "      <th>house_age</th>\n",
       "      <th>zip</th>\n",
       "      <th>primary_city</th>\n",
       "    </tr>\n",
       "  </thead>\n",
       "  <tbody>\n",
       "    <tr>\n",
       "      <th>0</th>\n",
       "      <td>7129300520</td>\n",
       "      <td>2014-10-13</td>\n",
       "      <td>221900.0</td>\n",
       "      <td>3</td>\n",
       "      <td>1.0</td>\n",
       "      <td>1180</td>\n",
       "      <td>5650</td>\n",
       "      <td>1.0</td>\n",
       "      <td>0</td>\n",
       "      <td>0</td>\n",
       "      <td>...</td>\n",
       "      <td>0.0</td>\n",
       "      <td>1955</td>\n",
       "      <td>98178</td>\n",
       "      <td>47.5112</td>\n",
       "      <td>-122.257</td>\n",
       "      <td>1340</td>\n",
       "      <td>5650</td>\n",
       "      <td>59</td>\n",
       "      <td>98178</td>\n",
       "      <td>Seattle</td>\n",
       "    </tr>\n",
       "    <tr>\n",
       "      <th>1</th>\n",
       "      <td>6414100192</td>\n",
       "      <td>2014-12-09</td>\n",
       "      <td>538000.0</td>\n",
       "      <td>3</td>\n",
       "      <td>3.0</td>\n",
       "      <td>2570</td>\n",
       "      <td>7242</td>\n",
       "      <td>2.0</td>\n",
       "      <td>0</td>\n",
       "      <td>0</td>\n",
       "      <td>...</td>\n",
       "      <td>1.0</td>\n",
       "      <td>1951</td>\n",
       "      <td>98125</td>\n",
       "      <td>47.7210</td>\n",
       "      <td>-122.319</td>\n",
       "      <td>1690</td>\n",
       "      <td>7639</td>\n",
       "      <td>63</td>\n",
       "      <td>98125</td>\n",
       "      <td>Seattle</td>\n",
       "    </tr>\n",
       "    <tr>\n",
       "      <th>2</th>\n",
       "      <td>5631500400</td>\n",
       "      <td>2015-02-25</td>\n",
       "      <td>180000.0</td>\n",
       "      <td>2</td>\n",
       "      <td>1.0</td>\n",
       "      <td>770</td>\n",
       "      <td>10000</td>\n",
       "      <td>1.0</td>\n",
       "      <td>0</td>\n",
       "      <td>0</td>\n",
       "      <td>...</td>\n",
       "      <td>0.0</td>\n",
       "      <td>1933</td>\n",
       "      <td>98028</td>\n",
       "      <td>47.7379</td>\n",
       "      <td>-122.233</td>\n",
       "      <td>2720</td>\n",
       "      <td>8062</td>\n",
       "      <td>82</td>\n",
       "      <td>98028</td>\n",
       "      <td>Kenmore</td>\n",
       "    </tr>\n",
       "    <tr>\n",
       "      <th>3</th>\n",
       "      <td>2487200875</td>\n",
       "      <td>2014-12-09</td>\n",
       "      <td>604000.0</td>\n",
       "      <td>4</td>\n",
       "      <td>3.0</td>\n",
       "      <td>1960</td>\n",
       "      <td>5000</td>\n",
       "      <td>1.0</td>\n",
       "      <td>0</td>\n",
       "      <td>0</td>\n",
       "      <td>...</td>\n",
       "      <td>1.0</td>\n",
       "      <td>1965</td>\n",
       "      <td>98136</td>\n",
       "      <td>47.5208</td>\n",
       "      <td>-122.393</td>\n",
       "      <td>1360</td>\n",
       "      <td>5000</td>\n",
       "      <td>49</td>\n",
       "      <td>98136</td>\n",
       "      <td>Seattle</td>\n",
       "    </tr>\n",
       "    <tr>\n",
       "      <th>4</th>\n",
       "      <td>1954400510</td>\n",
       "      <td>2015-02-18</td>\n",
       "      <td>510000.0</td>\n",
       "      <td>3</td>\n",
       "      <td>2.0</td>\n",
       "      <td>1680</td>\n",
       "      <td>8080</td>\n",
       "      <td>1.0</td>\n",
       "      <td>0</td>\n",
       "      <td>0</td>\n",
       "      <td>...</td>\n",
       "      <td>0.0</td>\n",
       "      <td>1987</td>\n",
       "      <td>98074</td>\n",
       "      <td>47.6168</td>\n",
       "      <td>-122.045</td>\n",
       "      <td>1800</td>\n",
       "      <td>7503</td>\n",
       "      <td>28</td>\n",
       "      <td>98074</td>\n",
       "      <td>Sammamish</td>\n",
       "    </tr>\n",
       "  </tbody>\n",
       "</table>\n",
       "<p>5 rows × 23 columns</p>\n",
       "</div>"
      ],
      "text/plain": [
       "           id       date     price  bedrooms  bathrooms  sqft_living  \\\n",
       "0  7129300520 2014-10-13  221900.0         3        1.0         1180   \n",
       "1  6414100192 2014-12-09  538000.0         3        3.0         2570   \n",
       "2  5631500400 2015-02-25  180000.0         2        1.0          770   \n",
       "3  2487200875 2014-12-09  604000.0         4        3.0         1960   \n",
       "4  1954400510 2015-02-18  510000.0         3        2.0         1680   \n",
       "\n",
       "   sqft_lot  floors  waterfront  view  ...  basement  yr_built  zipcode  \\\n",
       "0      5650     1.0           0     0  ...       0.0      1955    98178   \n",
       "1      7242     2.0           0     0  ...       1.0      1951    98125   \n",
       "2     10000     1.0           0     0  ...       0.0      1933    98028   \n",
       "3      5000     1.0           0     0  ...       1.0      1965    98136   \n",
       "4      8080     1.0           0     0  ...       0.0      1987    98074   \n",
       "\n",
       "       lat     long  sqft_living15  sqft_lot15  house_age    zip  primary_city  \n",
       "0  47.5112 -122.257           1340        5650         59  98178       Seattle  \n",
       "1  47.7210 -122.319           1690        7639         63  98125       Seattle  \n",
       "2  47.7379 -122.233           2720        8062         82  98028       Kenmore  \n",
       "3  47.5208 -122.393           1360        5000         49  98136       Seattle  \n",
       "4  47.6168 -122.045           1800        7503         28  98074     Sammamish  \n",
       "\n",
       "[5 rows x 23 columns]"
      ]
     },
     "execution_count": 52,
     "metadata": {},
     "output_type": "execute_result"
    }
   ],
   "source": [
    "df.head()"
   ]
  },
  {
   "cell_type": "markdown",
   "metadata": {},
   "source": [
    "Removing unused columns"
   ]
  },
  {
   "cell_type": "code",
   "execution_count": 53,
   "metadata": {},
   "outputs": [],
   "source": [
    "todrop = ['id', 'date', 'lat', 'long', 'zipcode', 'zip', 'yr_built']"
   ]
  },
  {
   "cell_type": "code",
   "execution_count": 54,
   "metadata": {},
   "outputs": [],
   "source": [
    "df.drop(todrop, axis = 1, inplace = True)"
   ]
  },
  {
   "cell_type": "markdown",
   "metadata": {},
   "source": [
    "Splitting data set to train/test data sets for model validation later on."
   ]
  },
  {
   "cell_type": "code",
   "execution_count": 55,
   "metadata": {},
   "outputs": [],
   "source": [
    "X = df.drop('price', axis = 1)\n",
    "y = df.price"
   ]
  },
  {
   "cell_type": "code",
   "execution_count": 56,
   "metadata": {},
   "outputs": [],
   "source": [
    "X_train, X_test, y_train, y_test = train_test_split(X, y, test_size=0.2,random_state=42)"
   ]
  },
  {
   "cell_type": "code",
   "execution_count": 57,
   "metadata": {},
   "outputs": [
    {
     "name": "stdout",
     "output_type": "stream",
     "text": [
      "(14236, 15) (14236,)\n"
     ]
    }
   ],
   "source": [
    "print(X_train.shape, y_train.shape)"
   ]
  },
  {
   "cell_type": "markdown",
   "metadata": {},
   "source": [
    "Split categorical variables from numeric"
   ]
  },
  {
   "cell_type": "code",
   "execution_count": 58,
   "metadata": {},
   "outputs": [],
   "source": [
    "X_train_num = X_train.drop('primary_city', axis = 1)"
   ]
  },
  {
   "cell_type": "code",
   "execution_count": 59,
   "metadata": {},
   "outputs": [
    {
     "data": {
      "text/html": [
       "<div>\n",
       "<style scoped>\n",
       "    .dataframe tbody tr th:only-of-type {\n",
       "        vertical-align: middle;\n",
       "    }\n",
       "\n",
       "    .dataframe tbody tr th {\n",
       "        vertical-align: top;\n",
       "    }\n",
       "\n",
       "    .dataframe thead th {\n",
       "        text-align: right;\n",
       "    }\n",
       "</style>\n",
       "<table border=\"1\" class=\"dataframe\">\n",
       "  <thead>\n",
       "    <tr style=\"text-align: right;\">\n",
       "      <th></th>\n",
       "      <th>bedrooms</th>\n",
       "      <th>bathrooms</th>\n",
       "      <th>sqft_living</th>\n",
       "      <th>sqft_lot</th>\n",
       "      <th>floors</th>\n",
       "      <th>waterfront</th>\n",
       "      <th>view</th>\n",
       "      <th>condition</th>\n",
       "      <th>grade</th>\n",
       "      <th>sqft_above</th>\n",
       "      <th>basement</th>\n",
       "      <th>sqft_living15</th>\n",
       "      <th>sqft_lot15</th>\n",
       "      <th>house_age</th>\n",
       "    </tr>\n",
       "  </thead>\n",
       "  <tbody>\n",
       "    <tr>\n",
       "      <th>6634</th>\n",
       "      <td>4</td>\n",
       "      <td>3.0</td>\n",
       "      <td>1690</td>\n",
       "      <td>7260</td>\n",
       "      <td>1.0</td>\n",
       "      <td>0</td>\n",
       "      <td>0</td>\n",
       "      <td>3</td>\n",
       "      <td>7</td>\n",
       "      <td>1080</td>\n",
       "      <td>1.0</td>\n",
       "      <td>1690</td>\n",
       "      <td>7700</td>\n",
       "      <td>36</td>\n",
       "    </tr>\n",
       "    <tr>\n",
       "      <th>11444</th>\n",
       "      <td>3</td>\n",
       "      <td>2.0</td>\n",
       "      <td>1810</td>\n",
       "      <td>17006</td>\n",
       "      <td>2.0</td>\n",
       "      <td>0</td>\n",
       "      <td>4</td>\n",
       "      <td>3</td>\n",
       "      <td>8</td>\n",
       "      <td>1810</td>\n",
       "      <td>0.0</td>\n",
       "      <td>2180</td>\n",
       "      <td>24911</td>\n",
       "      <td>101</td>\n",
       "    </tr>\n",
       "    <tr>\n",
       "      <th>15396</th>\n",
       "      <td>2</td>\n",
       "      <td>2.0</td>\n",
       "      <td>1870</td>\n",
       "      <td>5580</td>\n",
       "      <td>1.0</td>\n",
       "      <td>0</td>\n",
       "      <td>0</td>\n",
       "      <td>3</td>\n",
       "      <td>8</td>\n",
       "      <td>1870</td>\n",
       "      <td>0.0</td>\n",
       "      <td>1670</td>\n",
       "      <td>4500</td>\n",
       "      <td>10</td>\n",
       "    </tr>\n",
       "    <tr>\n",
       "      <th>12222</th>\n",
       "      <td>3</td>\n",
       "      <td>2.0</td>\n",
       "      <td>1700</td>\n",
       "      <td>11613</td>\n",
       "      <td>1.0</td>\n",
       "      <td>0</td>\n",
       "      <td>0</td>\n",
       "      <td>5</td>\n",
       "      <td>7</td>\n",
       "      <td>1180</td>\n",
       "      <td>1.0</td>\n",
       "      <td>1500</td>\n",
       "      <td>12377</td>\n",
       "      <td>38</td>\n",
       "    </tr>\n",
       "    <tr>\n",
       "      <th>2086</th>\n",
       "      <td>3</td>\n",
       "      <td>1.0</td>\n",
       "      <td>1010</td>\n",
       "      <td>7633</td>\n",
       "      <td>1.0</td>\n",
       "      <td>0</td>\n",
       "      <td>0</td>\n",
       "      <td>4</td>\n",
       "      <td>6</td>\n",
       "      <td>1010</td>\n",
       "      <td>0.0</td>\n",
       "      <td>1190</td>\n",
       "      <td>8386</td>\n",
       "      <td>53</td>\n",
       "    </tr>\n",
       "  </tbody>\n",
       "</table>\n",
       "</div>"
      ],
      "text/plain": [
       "       bedrooms  bathrooms  sqft_living  sqft_lot  floors  waterfront  view  \\\n",
       "6634          4        3.0         1690      7260     1.0           0     0   \n",
       "11444         3        2.0         1810     17006     2.0           0     4   \n",
       "15396         2        2.0         1870      5580     1.0           0     0   \n",
       "12222         3        2.0         1700     11613     1.0           0     0   \n",
       "2086          3        1.0         1010      7633     1.0           0     0   \n",
       "\n",
       "       condition  grade  sqft_above  basement  sqft_living15  sqft_lot15  \\\n",
       "6634           3      7        1080       1.0           1690        7700   \n",
       "11444          3      8        1810       0.0           2180       24911   \n",
       "15396          3      8        1870       0.0           1670        4500   \n",
       "12222          5      7        1180       1.0           1500       12377   \n",
       "2086           4      6        1010       0.0           1190        8386   \n",
       "\n",
       "       house_age  \n",
       "6634          36  \n",
       "11444        101  \n",
       "15396         10  \n",
       "12222         38  \n",
       "2086          53  "
      ]
     },
     "execution_count": 59,
     "metadata": {},
     "output_type": "execute_result"
    }
   ],
   "source": [
    "X_train_num.head()"
   ]
  },
  {
   "cell_type": "code",
   "execution_count": 60,
   "metadata": {},
   "outputs": [],
   "source": [
    "X_train_cat = X_train.primary_city"
   ]
  },
  {
   "cell_type": "markdown",
   "metadata": {},
   "source": [
    "Using pandas to create dummy variables for primary_city. Dropping a column to avoid multicolinearity."
   ]
  },
  {
   "cell_type": "code",
   "execution_count": 61,
   "metadata": {},
   "outputs": [
    {
     "data": {
      "text/html": [
       "<div>\n",
       "<style scoped>\n",
       "    .dataframe tbody tr th:only-of-type {\n",
       "        vertical-align: middle;\n",
       "    }\n",
       "\n",
       "    .dataframe tbody tr th {\n",
       "        vertical-align: top;\n",
       "    }\n",
       "\n",
       "    .dataframe thead th {\n",
       "        text-align: right;\n",
       "    }\n",
       "</style>\n",
       "<table border=\"1\" class=\"dataframe\">\n",
       "  <thead>\n",
       "    <tr style=\"text-align: right;\">\n",
       "      <th></th>\n",
       "      <th>Auburn</th>\n",
       "      <th>Bellevue</th>\n",
       "      <th>Federal Way</th>\n",
       "      <th>Issaquah</th>\n",
       "      <th>Kenmore</th>\n",
       "      <th>Kent</th>\n",
       "      <th>Kirkland</th>\n",
       "      <th>Maple Valley</th>\n",
       "      <th>Mercer Island</th>\n",
       "      <th>Redmond</th>\n",
       "      <th>Renton</th>\n",
       "      <th>Sammamish</th>\n",
       "      <th>Snoqualmie</th>\n",
       "      <th>Woodinville</th>\n",
       "    </tr>\n",
       "  </thead>\n",
       "  <tbody>\n",
       "    <tr>\n",
       "      <th>6634</th>\n",
       "      <td>0</td>\n",
       "      <td>0</td>\n",
       "      <td>1</td>\n",
       "      <td>0</td>\n",
       "      <td>0</td>\n",
       "      <td>0</td>\n",
       "      <td>0</td>\n",
       "      <td>0</td>\n",
       "      <td>0</td>\n",
       "      <td>0</td>\n",
       "      <td>0</td>\n",
       "      <td>0</td>\n",
       "      <td>0</td>\n",
       "      <td>0</td>\n",
       "    </tr>\n",
       "    <tr>\n",
       "      <th>11444</th>\n",
       "      <td>0</td>\n",
       "      <td>0</td>\n",
       "      <td>0</td>\n",
       "      <td>0</td>\n",
       "      <td>0</td>\n",
       "      <td>0</td>\n",
       "      <td>0</td>\n",
       "      <td>0</td>\n",
       "      <td>0</td>\n",
       "      <td>0</td>\n",
       "      <td>0</td>\n",
       "      <td>0</td>\n",
       "      <td>0</td>\n",
       "      <td>0</td>\n",
       "    </tr>\n",
       "    <tr>\n",
       "      <th>15396</th>\n",
       "      <td>0</td>\n",
       "      <td>0</td>\n",
       "      <td>0</td>\n",
       "      <td>0</td>\n",
       "      <td>0</td>\n",
       "      <td>0</td>\n",
       "      <td>0</td>\n",
       "      <td>0</td>\n",
       "      <td>0</td>\n",
       "      <td>1</td>\n",
       "      <td>0</td>\n",
       "      <td>0</td>\n",
       "      <td>0</td>\n",
       "      <td>0</td>\n",
       "    </tr>\n",
       "    <tr>\n",
       "      <th>12222</th>\n",
       "      <td>1</td>\n",
       "      <td>0</td>\n",
       "      <td>0</td>\n",
       "      <td>0</td>\n",
       "      <td>0</td>\n",
       "      <td>0</td>\n",
       "      <td>0</td>\n",
       "      <td>0</td>\n",
       "      <td>0</td>\n",
       "      <td>0</td>\n",
       "      <td>0</td>\n",
       "      <td>0</td>\n",
       "      <td>0</td>\n",
       "      <td>0</td>\n",
       "    </tr>\n",
       "    <tr>\n",
       "      <th>2086</th>\n",
       "      <td>0</td>\n",
       "      <td>0</td>\n",
       "      <td>0</td>\n",
       "      <td>0</td>\n",
       "      <td>0</td>\n",
       "      <td>0</td>\n",
       "      <td>0</td>\n",
       "      <td>0</td>\n",
       "      <td>0</td>\n",
       "      <td>0</td>\n",
       "      <td>0</td>\n",
       "      <td>0</td>\n",
       "      <td>0</td>\n",
       "      <td>0</td>\n",
       "    </tr>\n",
       "  </tbody>\n",
       "</table>\n",
       "</div>"
      ],
      "text/plain": [
       "       Auburn  Bellevue  Federal Way  Issaquah  Kenmore  Kent  Kirkland  \\\n",
       "6634        0         0            1         0        0     0         0   \n",
       "11444       0         0            0         0        0     0         0   \n",
       "15396       0         0            0         0        0     0         0   \n",
       "12222       1         0            0         0        0     0         0   \n",
       "2086        0         0            0         0        0     0         0   \n",
       "\n",
       "       Maple Valley  Mercer Island  Redmond  Renton  Sammamish  Snoqualmie  \\\n",
       "6634              0              0        0       0          0           0   \n",
       "11444             0              0        0       0          0           0   \n",
       "15396             0              0        1       0          0           0   \n",
       "12222             0              0        0       0          0           0   \n",
       "2086              0              0        0       0          0           0   \n",
       "\n",
       "       Woodinville  \n",
       "6634             0  \n",
       "11444            0  \n",
       "15396            0  \n",
       "12222            0  \n",
       "2086             0  "
      ]
     },
     "execution_count": 61,
     "metadata": {},
     "output_type": "execute_result"
    }
   ],
   "source": [
    "dummies = pd.get_dummies(X_train_cat)\n",
    "dummies.drop('Seattle', axis = 1, inplace = True)\n",
    "X_train_cat = pd.concat([X_train_cat, dummies], axis = 1)\n",
    "X_train_cat.drop('primary_city', axis = 1, inplace = True)\n",
    "X_train_cat.head()"
   ]
  },
  {
   "cell_type": "markdown",
   "metadata": {},
   "source": [
    "### Feature Selection"
   ]
  },
  {
   "cell_type": "markdown",
   "metadata": {},
   "source": [
    "Linear regression is a great method to determine the strength of predictors. In order for linear regression to produce trustworthy results there are certain assumptions that need to be followed: \n",
    "* Linearity - relationship between predictor and target should be linear.\n",
    "* Independence - Observations are independent from each other, low or no multicollinearity.\n",
    "* Normality - Errors should be normally distributed\n",
    "* Homoscedasticity - variance or the errors is the same"
   ]
  },
  {
   "cell_type": "markdown",
   "metadata": {},
   "source": [
    "First we check the assumption of independence by identifying multicollinearity among the predictors, this can be done by "
   ]
  },
  {
   "cell_type": "code",
   "execution_count": 62,
   "metadata": {},
   "outputs": [],
   "source": [
    "corr = X_train_num.corr()"
   ]
  },
  {
   "cell_type": "code",
   "execution_count": 63,
   "metadata": {},
   "outputs": [
    {
     "data": {
      "image/png": "[encoded data removed]",
      "text/plain": [
       "<Figure size 1440x1440 with 2 Axes>"
      ]
     },
     "metadata": {
      "needs_background": "light"
     },
     "output_type": "display_data"
    }
   ],
   "source": [
    "fig, ax = plt.subplots(figsize=(20, 20))\n",
    "sns.heatmap(data=corr, mask=np.triu(np.ones_like(corr, dtype=bool)), ax=ax,\\\n",
    "            annot=True,);"
   ]
  },
  {
   "cell_type": "markdown",
   "metadata": {},
   "source": [
    "Generally 0.7 - 0.8 or higher absolute value of correlation is considered high. We will take anything above 0.75 as a cut-off."
   ]
  },
  {
   "cell_type": "code",
   "execution_count": 64,
   "metadata": {},
   "outputs": [
    {
     "data": {
      "text/html": [
       "<div>\n",
       "<style scoped>\n",
       "    .dataframe tbody tr th:only-of-type {\n",
       "        vertical-align: middle;\n",
       "    }\n",
       "\n",
       "    .dataframe tbody tr th {\n",
       "        vertical-align: top;\n",
       "    }\n",
       "\n",
       "    .dataframe thead th {\n",
       "        text-align: right;\n",
       "    }\n",
       "</style>\n",
       "<table border=\"1\" class=\"dataframe\">\n",
       "  <thead>\n",
       "    <tr style=\"text-align: right;\">\n",
       "      <th></th>\n",
       "      <th>cc</th>\n",
       "    </tr>\n",
       "    <tr>\n",
       "      <th>pairs</th>\n",
       "      <th></th>\n",
       "    </tr>\n",
       "  </thead>\n",
       "  <tbody>\n",
       "    <tr>\n",
       "      <th>(sqft_above, sqft_living)</th>\n",
       "      <td>0.856037</td>\n",
       "    </tr>\n",
       "    <tr>\n",
       "      <th>(sqft_lot15, sqft_lot)</th>\n",
       "      <td>0.777671</td>\n",
       "    </tr>\n",
       "    <tr>\n",
       "      <th>(sqft_living, sqft_living15)</th>\n",
       "      <td>0.763312</td>\n",
       "    </tr>\n",
       "  </tbody>\n",
       "</table>\n",
       "</div>"
      ],
      "text/plain": [
       "                                    cc\n",
       "pairs                                 \n",
       "(sqft_above, sqft_living)     0.856037\n",
       "(sqft_lot15, sqft_lot)        0.777671\n",
       "(sqft_living, sqft_living15)  0.763312"
      ]
     },
     "execution_count": 64,
     "metadata": {},
     "output_type": "execute_result"
    }
   ],
   "source": [
    "corr_list = corr.abs().stack().reset_index().sort_values(0, ascending=False)\n",
    "corr_list['pairs'] = list(zip(corr_list.level_0, corr_list.level_1))\n",
    "corr_list.set_index(['pairs'], inplace = True)\n",
    "corr_list.drop(columns=['level_1', 'level_0'], inplace = True)\n",
    "corr_list.columns = ['cc']\n",
    "corr_list.drop_duplicates(inplace=True)\n",
    "corr_list[(corr_list.cc > .75) & (corr_list.cc < 1)]"
   ]
  },
  {
   "cell_type": "markdown",
   "metadata": {},
   "source": [
    "sqft_above, sqft_living, sqft_lot15, sqft_lot, and sqft_living15 are found to be highly correlated variables. \n",
    "Removing all but sqft_living and sqft_lot should help with multicollinearity problems."
   ]
  },
  {
   "cell_type": "code",
   "execution_count": 65,
   "metadata": {},
   "outputs": [],
   "source": [
    "baseX = X_train_num.drop(['sqft_above', 'sqft_lot15', 'sqft_living15'], axis = 1)"
   ]
  },
  {
   "cell_type": "markdown",
   "metadata": {},
   "source": [
    "To start our baseline model we will select variables that have the highest correlation with our target price, which is found to be sqft_living and grade."
   ]
  },
  {
   "cell_type": "code",
   "execution_count": 66,
   "metadata": {},
   "outputs": [
    {
     "data": {
      "text/plain": [
       "price          1.000000\n",
       "sqft_living    0.658881\n",
       "grade          0.643985\n",
       "bathrooms      0.436408\n",
       "view           0.399204\n",
       "bedrooms       0.300648\n",
       "waterfront     0.257937\n",
       "floors         0.234218\n",
       "basement       0.176716\n",
       "sqft_lot       0.117743\n",
       "condition      0.038430\n",
       "house_age      0.020894\n",
       "Name: price, dtype: float64"
      ]
     },
     "execution_count": 66,
     "metadata": {},
     "output_type": "execute_result"
    }
   ],
   "source": [
    "corr_data = pd.concat([y_train, baseX], axis=1)\n",
    "corr_data.corr().price.abs().sort_values(ascending = False)"
   ]
  },
  {
   "cell_type": "markdown",
   "metadata": {},
   "source": [
    "Linearity of variables with the target can be checked with a simple scatter plot."
   ]
  },
  {
   "cell_type": "code",
   "execution_count": 67,
   "metadata": {
    "scrolled": false
   },
   "outputs": [
    {
     "data": {
      "image/png": "[encoded data removed]",
      "text/plain": [
       "<Figure size 720x1440 with 11 Axes>"
      ]
     },
     "metadata": {
      "needs_background": "light"
     },
     "output_type": "display_data"
    }
   ],
   "source": [
    "fig, axes = plt.subplots(ncols=2, nrows=6, figsize=(10, 20))\n",
    "fig.set_tight_layout(True)\n",
    "fig.delaxes(axes[5,1])\n",
    "\n",
    "for index, col in enumerate(baseX.columns):\n",
    "    ax = axes[index//2][index%2]\n",
    "    ax.scatter(baseX[col], y_train, alpha=0.2)\n",
    "    ax.set_xlabel(col)\n",
    "    ax.set_ylabel(\"price\")"
   ]
  },
  {
   "cell_type": "markdown",
   "metadata": {},
   "source": [
    "A linear relationship is not visable for 'house_age', 'bedrooms', 'floors', 'sqft_lot'"
   ]
  },
  {
   "cell_type": "code",
   "execution_count": 68,
   "metadata": {},
   "outputs": [],
   "source": [
    "baseX.drop(['house_age', 'bedrooms', 'floors', 'sqft_lot'], axis = 1, inplace = True)"
   ]
  },
  {
   "cell_type": "code",
   "execution_count": 69,
   "metadata": {},
   "outputs": [
    {
     "data": {
      "text/html": [
       "<div>\n",
       "<style scoped>\n",
       "    .dataframe tbody tr th:only-of-type {\n",
       "        vertical-align: middle;\n",
       "    }\n",
       "\n",
       "    .dataframe tbody tr th {\n",
       "        vertical-align: top;\n",
       "    }\n",
       "\n",
       "    .dataframe thead th {\n",
       "        text-align: right;\n",
       "    }\n",
       "</style>\n",
       "<table border=\"1\" class=\"dataframe\">\n",
       "  <thead>\n",
       "    <tr style=\"text-align: right;\">\n",
       "      <th></th>\n",
       "      <th>bathrooms</th>\n",
       "      <th>sqft_living</th>\n",
       "      <th>waterfront</th>\n",
       "      <th>view</th>\n",
       "      <th>condition</th>\n",
       "      <th>grade</th>\n",
       "      <th>basement</th>\n",
       "    </tr>\n",
       "  </thead>\n",
       "  <tbody>\n",
       "    <tr>\n",
       "      <th>6634</th>\n",
       "      <td>3.0</td>\n",
       "      <td>1690</td>\n",
       "      <td>0</td>\n",
       "      <td>0</td>\n",
       "      <td>3</td>\n",
       "      <td>7</td>\n",
       "      <td>1.0</td>\n",
       "    </tr>\n",
       "    <tr>\n",
       "      <th>11444</th>\n",
       "      <td>2.0</td>\n",
       "      <td>1810</td>\n",
       "      <td>0</td>\n",
       "      <td>4</td>\n",
       "      <td>3</td>\n",
       "      <td>8</td>\n",
       "      <td>0.0</td>\n",
       "    </tr>\n",
       "    <tr>\n",
       "      <th>15396</th>\n",
       "      <td>2.0</td>\n",
       "      <td>1870</td>\n",
       "      <td>0</td>\n",
       "      <td>0</td>\n",
       "      <td>3</td>\n",
       "      <td>8</td>\n",
       "      <td>0.0</td>\n",
       "    </tr>\n",
       "    <tr>\n",
       "      <th>12222</th>\n",
       "      <td>2.0</td>\n",
       "      <td>1700</td>\n",
       "      <td>0</td>\n",
       "      <td>0</td>\n",
       "      <td>5</td>\n",
       "      <td>7</td>\n",
       "      <td>1.0</td>\n",
       "    </tr>\n",
       "    <tr>\n",
       "      <th>2086</th>\n",
       "      <td>1.0</td>\n",
       "      <td>1010</td>\n",
       "      <td>0</td>\n",
       "      <td>0</td>\n",
       "      <td>4</td>\n",
       "      <td>6</td>\n",
       "      <td>0.0</td>\n",
       "    </tr>\n",
       "  </tbody>\n",
       "</table>\n",
       "</div>"
      ],
      "text/plain": [
       "       bathrooms  sqft_living  waterfront  view  condition  grade  basement\n",
       "6634         3.0         1690           0     0          3      7       1.0\n",
       "11444        2.0         1810           0     4          3      8       0.0\n",
       "15396        2.0         1870           0     0          3      8       0.0\n",
       "12222        2.0         1700           0     0          5      7       1.0\n",
       "2086         1.0         1010           0     0          4      6       0.0"
      ]
     },
     "execution_count": 69,
     "metadata": {},
     "output_type": "execute_result"
    }
   ],
   "source": [
    "baseX.head()"
   ]
  },
  {
   "cell_type": "markdown",
   "metadata": {},
   "source": [
    "## Modeling\n",
    "\n",
    "### Baseline Model"
   ]
  },
  {
   "cell_type": "markdown",
   "metadata": {},
   "source": [
    "Baseline model will consist of the 2 highest correlated variables to our target"
   ]
  },
  {
   "cell_type": "code",
   "execution_count": 70,
   "metadata": {},
   "outputs": [],
   "source": [
    "high_corr = ['sqft_living', 'grade']\n",
    "firstX = baseX[high_corr]"
   ]
  },
  {
   "cell_type": "code",
   "execution_count": 71,
   "metadata": {},
   "outputs": [
    {
     "data": {
      "text/html": [
       "<table class=\"simpletable\">\n",
       "<caption>OLS Regression Results</caption>\n",
       "<tr>\n",
       "  <th>Dep. Variable:</th>          <td>price</td>      <th>  R-squared:         </th>  <td>   0.488</td>  \n",
       "</tr>\n",
       "<tr>\n",
       "  <th>Model:</th>                   <td>OLS</td>       <th>  Adj. R-squared:    </th>  <td>   0.488</td>  \n",
       "</tr>\n",
       "<tr>\n",
       "  <th>Method:</th>             <td>Least Squares</td>  <th>  F-statistic:       </th>  <td>   6790.</td>  \n",
       "</tr>\n",
       "<tr>\n",
       "  <th>Date:</th>             <td>Thu, 26 May 2022</td> <th>  Prob (F-statistic):</th>   <td>  0.00</td>   \n",
       "</tr>\n",
       "<tr>\n",
       "  <th>Time:</th>                 <td>01:21:22</td>     <th>  Log-Likelihood:    </th> <td>-1.9540e+05</td>\n",
       "</tr>\n",
       "<tr>\n",
       "  <th>No. Observations:</th>      <td> 14236</td>      <th>  AIC:               </th>  <td>3.908e+05</td> \n",
       "</tr>\n",
       "<tr>\n",
       "  <th>Df Residuals:</th>          <td> 14233</td>      <th>  BIC:               </th>  <td>3.908e+05</td> \n",
       "</tr>\n",
       "<tr>\n",
       "  <th>Df Model:</th>              <td>     2</td>      <th>                     </th>      <td> </td>     \n",
       "</tr>\n",
       "<tr>\n",
       "  <th>Covariance Type:</th>      <td>nonrobust</td>    <th>                     </th>      <td> </td>     \n",
       "</tr>\n",
       "</table>\n",
       "<table class=\"simpletable\">\n",
       "<tr>\n",
       "       <td></td>          <th>coef</th>     <th>std err</th>      <th>t</th>      <th>P>|t|</th>  <th>[0.025</th>    <th>0.975]</th>  \n",
       "</tr>\n",
       "<tr>\n",
       "  <th>const</th>       <td>-5.311e+05</td> <td> 1.51e+04</td> <td>  -35.160</td> <td> 0.000</td> <td>-5.61e+05</td> <td>-5.01e+05</td>\n",
       "</tr>\n",
       "<tr>\n",
       "  <th>sqft_living</th> <td>  151.2517</td> <td>    3.344</td> <td>   45.233</td> <td> 0.000</td> <td>  144.697</td> <td>  157.806</td>\n",
       "</tr>\n",
       "<tr>\n",
       "  <th>grade</th>       <td> 9.813e+04</td> <td> 2528.559</td> <td>   38.810</td> <td> 0.000</td> <td> 9.32e+04</td> <td> 1.03e+05</td>\n",
       "</tr>\n",
       "</table>\n",
       "<table class=\"simpletable\">\n",
       "<tr>\n",
       "  <th>Omnibus:</th>       <td>7559.432</td> <th>  Durbin-Watson:     </th>  <td>   1.991</td> \n",
       "</tr>\n",
       "<tr>\n",
       "  <th>Prob(Omnibus):</th>  <td> 0.000</td>  <th>  Jarque-Bera (JB):  </th> <td>104375.947</td>\n",
       "</tr>\n",
       "<tr>\n",
       "  <th>Skew:</th>           <td> 2.240</td>  <th>  Prob(JB):          </th>  <td>    0.00</td> \n",
       "</tr>\n",
       "<tr>\n",
       "  <th>Kurtosis:</th>       <td>15.486</td>  <th>  Cond. No.          </th>  <td>1.82e+04</td> \n",
       "</tr>\n",
       "</table><br/><br/>Notes:<br/>[1] Standard Errors assume that the covariance matrix of the errors is correctly specified.<br/>[2] The condition number is large, 1.82e+04. This might indicate that there are<br/>strong multicollinearity or other numerical problems."
      ],
      "text/plain": [
       "<class 'statsmodels.iolib.summary.Summary'>\n",
       "\"\"\"\n",
       "                            OLS Regression Results                            \n",
       "==============================================================================\n",
       "Dep. Variable:                  price   R-squared:                       0.488\n",
       "Model:                            OLS   Adj. R-squared:                  0.488\n",
       "Method:                 Least Squares   F-statistic:                     6790.\n",
       "Date:                Thu, 26 May 2022   Prob (F-statistic):               0.00\n",
       "Time:                        01:21:22   Log-Likelihood:            -1.9540e+05\n",
       "No. Observations:               14236   AIC:                         3.908e+05\n",
       "Df Residuals:                   14233   BIC:                         3.908e+05\n",
       "Df Model:                           2                                         \n",
       "Covariance Type:            nonrobust                                         \n",
       "===============================================================================\n",
       "                  coef    std err          t      P>|t|      [0.025      0.975]\n",
       "-------------------------------------------------------------------------------\n",
       "const       -5.311e+05   1.51e+04    -35.160      0.000   -5.61e+05   -5.01e+05\n",
       "sqft_living   151.2517      3.344     45.233      0.000     144.697     157.806\n",
       "grade        9.813e+04   2528.559     38.810      0.000    9.32e+04    1.03e+05\n",
       "==============================================================================\n",
       "Omnibus:                     7559.432   Durbin-Watson:                   1.991\n",
       "Prob(Omnibus):                  0.000   Jarque-Bera (JB):           104375.947\n",
       "Skew:                           2.240   Prob(JB):                         0.00\n",
       "Kurtosis:                      15.486   Cond. No.                     1.82e+04\n",
       "==============================================================================\n",
       "\n",
       "Notes:\n",
       "[1] Standard Errors assume that the covariance matrix of the errors is correctly specified.\n",
       "[2] The condition number is large, 1.82e+04. This might indicate that there are\n",
       "strong multicollinearity or other numerical problems.\n",
       "\"\"\""
      ]
     },
     "execution_count": 71,
     "metadata": {},
     "output_type": "execute_result"
    }
   ],
   "source": [
    "model = sm.OLS(y_train, sm.add_constant(firstX)).fit()\n",
    "model.summary()"
   ]
  },
  {
   "cell_type": "markdown",
   "metadata": {},
   "source": [
    "R^2 value of 0.488 shows that only around 49% of prices variance is explained by sqft living and grade. \n",
    "p-values for all predictors round to 0, which indicates that they have statistical significance.\n",
    "coef for sqft_living shows for each unit of increased in sqft_living, price will increase by 151.25\n",
    "same for grade with an increase of 98,130 in price for each unit of grade increase."
   ]
  },
  {
   "cell_type": "markdown",
   "metadata": {},
   "source": [
    "#### Check for normality of residuals with QQ plot."
   ]
  },
  {
   "cell_type": "code",
   "execution_count": 72,
   "metadata": {},
   "outputs": [
    {
     "data": {
      "image/png": "[encoded data removed]",
      "text/plain": [
       "<Figure size 432x288 with 1 Axes>"
      ]
     },
     "metadata": {
      "needs_background": "light"
     },
     "output_type": "display_data"
    }
   ],
   "source": [
    "preds = model.predict(sm.add_constant(firstX))\n",
    "residuals = model.resid\n",
    "sm.graphics.qqplot(residuals, dist=stats.norm, line='45', fit=True);"
   ]
  },
  {
   "cell_type": "markdown",
   "metadata": {},
   "source": [
    "Check for homoscedasticity in residuals with scatterplot."
   ]
  },
  {
   "cell_type": "code",
   "execution_count": 73,
   "metadata": {},
   "outputs": [],
   "source": [
    "y_pred = model.predict(sm.add_constant(firstX))"
   ]
  },
  {
   "cell_type": "code",
   "execution_count": 74,
   "metadata": {},
   "outputs": [
    {
     "data": {
      "image/png": "[encoded data removed]",
      "text/plain": [
       "<Figure size 432x288 with 1 Axes>"
      ]
     },
     "metadata": {
      "needs_background": "light"
     },
     "output_type": "display_data"
    }
   ],
   "source": [
    "sns.residplot(x = y_pred, y = residuals);"
   ]
  },
  {
   "cell_type": "markdown",
   "metadata": {},
   "source": [
    "Assumptions for normality and homoscedasticity are found to be false. This can be corrected by log transformation of the target 'price', as its distribution was right skewed."
   ]
  },
  {
   "cell_type": "code",
   "execution_count": 75,
   "metadata": {},
   "outputs": [],
   "source": [
    "y_train_log = np.log(y_train)\n",
    "firstX_log = pd.DataFrame({})\n",
    "firstX_log['grade'] = baseX.grade\n",
    "firstX_log['sqft_living_log'] = np.log(baseX.sqft_living)"
   ]
  },
  {
   "cell_type": "code",
   "execution_count": 76,
   "metadata": {},
   "outputs": [
    {
     "data": {
      "text/html": [
       "<table class=\"simpletable\">\n",
       "<caption>OLS Regression Results</caption>\n",
       "<tr>\n",
       "  <th>Dep. Variable:</th>          <td>price</td>      <th>  R-squared:         </th> <td>   0.500</td> \n",
       "</tr>\n",
       "<tr>\n",
       "  <th>Model:</th>                   <td>OLS</td>       <th>  Adj. R-squared:    </th> <td>   0.500</td> \n",
       "</tr>\n",
       "<tr>\n",
       "  <th>Method:</th>             <td>Least Squares</td>  <th>  F-statistic:       </th> <td>   7114.</td> \n",
       "</tr>\n",
       "<tr>\n",
       "  <th>Date:</th>             <td>Thu, 26 May 2022</td> <th>  Prob (F-statistic):</th>  <td>  0.00</td>  \n",
       "</tr>\n",
       "<tr>\n",
       "  <th>Time:</th>                 <td>01:21:23</td>     <th>  Log-Likelihood:    </th> <td> -5204.3</td> \n",
       "</tr>\n",
       "<tr>\n",
       "  <th>No. Observations:</th>      <td> 14236</td>      <th>  AIC:               </th> <td>1.041e+04</td>\n",
       "</tr>\n",
       "<tr>\n",
       "  <th>Df Residuals:</th>          <td> 14233</td>      <th>  BIC:               </th> <td>1.044e+04</td>\n",
       "</tr>\n",
       "<tr>\n",
       "  <th>Df Model:</th>              <td>     2</td>      <th>                     </th>     <td> </td>    \n",
       "</tr>\n",
       "<tr>\n",
       "  <th>Covariance Type:</th>      <td>nonrobust</td>    <th>                     </th>     <td> </td>    \n",
       "</tr>\n",
       "</table>\n",
       "<table class=\"simpletable\">\n",
       "<tr>\n",
       "         <td></td>            <th>coef</th>     <th>std err</th>      <th>t</th>      <th>P>|t|</th>  <th>[0.025</th>    <th>0.975]</th>  \n",
       "</tr>\n",
       "<tr>\n",
       "  <th>const</th>           <td>    8.4226</td> <td>    0.061</td> <td>  137.073</td> <td> 0.000</td> <td>    8.302</td> <td>    8.543</td>\n",
       "</tr>\n",
       "<tr>\n",
       "  <th>grade</th>           <td>    0.1901</td> <td>    0.004</td> <td>   49.248</td> <td> 0.000</td> <td>    0.182</td> <td>    0.198</td>\n",
       "</tr>\n",
       "<tr>\n",
       "  <th>sqft_living_log</th> <td>    0.4206</td> <td>    0.010</td> <td>   40.137</td> <td> 0.000</td> <td>    0.400</td> <td>    0.441</td>\n",
       "</tr>\n",
       "</table>\n",
       "<table class=\"simpletable\">\n",
       "<tr>\n",
       "  <th>Omnibus:</th>       <td>45.227</td> <th>  Durbin-Watson:     </th> <td>   2.001</td>\n",
       "</tr>\n",
       "<tr>\n",
       "  <th>Prob(Omnibus):</th> <td> 0.000</td> <th>  Jarque-Bera (JB):  </th> <td>  44.251</td>\n",
       "</tr>\n",
       "<tr>\n",
       "  <th>Skew:</th>          <td> 0.121</td> <th>  Prob(JB):          </th> <td>2.46e-10</td>\n",
       "</tr>\n",
       "<tr>\n",
       "  <th>Kurtosis:</th>      <td> 2.872</td> <th>  Cond. No.          </th> <td>    231.</td>\n",
       "</tr>\n",
       "</table><br/><br/>Notes:<br/>[1] Standard Errors assume that the covariance matrix of the errors is correctly specified."
      ],
      "text/plain": [
       "<class 'statsmodels.iolib.summary.Summary'>\n",
       "\"\"\"\n",
       "                            OLS Regression Results                            \n",
       "==============================================================================\n",
       "Dep. Variable:                  price   R-squared:                       0.500\n",
       "Model:                            OLS   Adj. R-squared:                  0.500\n",
       "Method:                 Least Squares   F-statistic:                     7114.\n",
       "Date:                Thu, 26 May 2022   Prob (F-statistic):               0.00\n",
       "Time:                        01:21:23   Log-Likelihood:                -5204.3\n",
       "No. Observations:               14236   AIC:                         1.041e+04\n",
       "Df Residuals:                   14233   BIC:                         1.044e+04\n",
       "Df Model:                           2                                         \n",
       "Covariance Type:            nonrobust                                         \n",
       "===================================================================================\n",
       "                      coef    std err          t      P>|t|      [0.025      0.975]\n",
       "-----------------------------------------------------------------------------------\n",
       "const               8.4226      0.061    137.073      0.000       8.302       8.543\n",
       "grade               0.1901      0.004     49.248      0.000       0.182       0.198\n",
       "sqft_living_log     0.4206      0.010     40.137      0.000       0.400       0.441\n",
       "==============================================================================\n",
       "Omnibus:                       45.227   Durbin-Watson:                   2.001\n",
       "Prob(Omnibus):                  0.000   Jarque-Bera (JB):               44.251\n",
       "Skew:                           0.121   Prob(JB):                     2.46e-10\n",
       "Kurtosis:                       2.872   Cond. No.                         231.\n",
       "==============================================================================\n",
       "\n",
       "Notes:\n",
       "[1] Standard Errors assume that the covariance matrix of the errors is correctly specified.\n",
       "\"\"\""
      ]
     },
     "execution_count": 76,
     "metadata": {},
     "output_type": "execute_result"
    }
   ],
   "source": [
    "model_log = sm.OLS(y_train_log, sm.add_constant(firstX_log)).fit()\n",
    "model_log.summary()"
   ]
  },
  {
   "cell_type": "markdown",
   "metadata": {},
   "source": [
    "After log transformation of our target coef for predictors are now in terms of log.\n",
    "Each percent of unit increase of sqft_living will increase price by 0.42%\n",
    "unit increase in grade will result in a 19% increase in price.\n",
    "R^2 value has also increased a bit after the transformation as well."
   ]
  },
  {
   "cell_type": "code",
   "execution_count": 77,
   "metadata": {},
   "outputs": [
    {
     "data": {
      "image/png": "[encoded data removed]",
      "text/plain": [
       "<Figure size 432x288 with 1 Axes>"
      ]
     },
     "metadata": {
      "needs_background": "light"
     },
     "output_type": "display_data"
    }
   ],
   "source": [
    "preds = model_log.predict(sm.add_constant(firstX_log))\n",
    "residuals = model_log.resid\n",
    "sm.graphics.qqplot(residuals, dist=stats.norm, line='45', fit=True);"
   ]
  },
  {
   "cell_type": "code",
   "execution_count": 78,
   "metadata": {},
   "outputs": [
    {
     "data": {
      "image/png": "[encoded data removed]",
      "text/plain": [
       "<Figure size 432x288 with 1 Axes>"
      ]
     },
     "metadata": {
      "needs_background": "light"
     },
     "output_type": "display_data"
    }
   ],
   "source": [
    "y_pred = model_log.predict(sm.add_constant(firstX_log))\n",
    "sns.residplot(x = y_pred, y = residuals);"
   ]
  },
  {
   "cell_type": "markdown",
   "metadata": {},
   "source": [
    "Assumptions for normality and homoscedasticity are now satisfied."
   ]
  },
  {
   "cell_type": "markdown",
   "metadata": {},
   "source": [
    "### Model 2"
   ]
  },
  {
   "cell_type": "markdown",
   "metadata": {},
   "source": [
    "Adding moderately correlated variables to see if we can increase R^2 score."
   ]
  },
  {
   "cell_type": "code",
   "execution_count": 79,
   "metadata": {},
   "outputs": [
    {
     "data": {
      "text/plain": [
       "price          1.000000\n",
       "sqft_living    0.658881\n",
       "grade          0.643985\n",
       "bathrooms      0.436408\n",
       "view           0.399204\n",
       "waterfront     0.257937\n",
       "basement       0.176716\n",
       "condition      0.038430\n",
       "Name: price, dtype: float64"
      ]
     },
     "execution_count": 79,
     "metadata": {},
     "output_type": "execute_result"
    }
   ],
   "source": [
    "corr_data = pd.concat([y_train, baseX], axis=1)\n",
    "corr_data.corr().price.abs().sort_values(ascending = False)"
   ]
  },
  {
   "cell_type": "code",
   "execution_count": 80,
   "metadata": {},
   "outputs": [],
   "source": [
    "moderate = ['bathrooms', 'view', 'waterfront']\n",
    "secondX = pd.concat([firstX_log, baseX[moderate]], axis=1)"
   ]
  },
  {
   "cell_type": "code",
   "execution_count": 81,
   "metadata": {},
   "outputs": [
    {
     "data": {
      "text/html": [
       "<table class=\"simpletable\">\n",
       "<caption>OLS Regression Results</caption>\n",
       "<tr>\n",
       "  <th>Dep. Variable:</th>          <td>price</td>      <th>  R-squared:         </th> <td>   0.534</td>\n",
       "</tr>\n",
       "<tr>\n",
       "  <th>Model:</th>                   <td>OLS</td>       <th>  Adj. R-squared:    </th> <td>   0.533</td>\n",
       "</tr>\n",
       "<tr>\n",
       "  <th>Method:</th>             <td>Least Squares</td>  <th>  F-statistic:       </th> <td>   3255.</td>\n",
       "</tr>\n",
       "<tr>\n",
       "  <th>Date:</th>             <td>Thu, 26 May 2022</td> <th>  Prob (F-statistic):</th>  <td>  0.00</td> \n",
       "</tr>\n",
       "<tr>\n",
       "  <th>Time:</th>                 <td>01:21:23</td>     <th>  Log-Likelihood:    </th> <td> -4708.9</td>\n",
       "</tr>\n",
       "<tr>\n",
       "  <th>No. Observations:</th>      <td> 14236</td>      <th>  AIC:               </th> <td>   9430.</td>\n",
       "</tr>\n",
       "<tr>\n",
       "  <th>Df Residuals:</th>          <td> 14230</td>      <th>  BIC:               </th> <td>   9475.</td>\n",
       "</tr>\n",
       "<tr>\n",
       "  <th>Df Model:</th>              <td>     5</td>      <th>                     </th>     <td> </td>   \n",
       "</tr>\n",
       "<tr>\n",
       "  <th>Covariance Type:</th>      <td>nonrobust</td>    <th>                     </th>     <td> </td>   \n",
       "</tr>\n",
       "</table>\n",
       "<table class=\"simpletable\">\n",
       "<tr>\n",
       "         <td></td>            <th>coef</th>     <th>std err</th>      <th>t</th>      <th>P>|t|</th>  <th>[0.025</th>    <th>0.975]</th>  \n",
       "</tr>\n",
       "<tr>\n",
       "  <th>const</th>           <td>    8.3814</td> <td>    0.072</td> <td>  116.477</td> <td> 0.000</td> <td>    8.240</td> <td>    8.522</td>\n",
       "</tr>\n",
       "<tr>\n",
       "  <th>grade</th>           <td>    0.1877</td> <td>    0.004</td> <td>   48.421</td> <td> 0.000</td> <td>    0.180</td> <td>    0.195</td>\n",
       "</tr>\n",
       "<tr>\n",
       "  <th>sqft_living_log</th> <td>    0.4379</td> <td>    0.012</td> <td>   37.393</td> <td> 0.000</td> <td>    0.415</td> <td>    0.461</td>\n",
       "</tr>\n",
       "<tr>\n",
       "  <th>bathrooms</th>       <td>   -0.0397</td> <td>    0.005</td> <td>   -8.102</td> <td> 0.000</td> <td>   -0.049</td> <td>   -0.030</td>\n",
       "</tr>\n",
       "<tr>\n",
       "  <th>view</th>            <td>    0.1034</td> <td>    0.004</td> <td>   24.060</td> <td> 0.000</td> <td>    0.095</td> <td>    0.112</td>\n",
       "</tr>\n",
       "<tr>\n",
       "  <th>waterfront</th>      <td>    0.3377</td> <td>    0.041</td> <td>    8.229</td> <td> 0.000</td> <td>    0.257</td> <td>    0.418</td>\n",
       "</tr>\n",
       "</table>\n",
       "<table class=\"simpletable\">\n",
       "<tr>\n",
       "  <th>Omnibus:</th>       <td>17.456</td> <th>  Durbin-Watson:     </th> <td>   1.993</td>\n",
       "</tr>\n",
       "<tr>\n",
       "  <th>Prob(Omnibus):</th> <td> 0.000</td> <th>  Jarque-Bera (JB):  </th> <td>  15.244</td>\n",
       "</tr>\n",
       "<tr>\n",
       "  <th>Skew:</th>          <td> 0.024</td> <th>  Prob(JB):          </th> <td>0.000490</td>\n",
       "</tr>\n",
       "<tr>\n",
       "  <th>Kurtosis:</th>      <td> 2.847</td> <th>  Cond. No.          </th> <td>    287.</td>\n",
       "</tr>\n",
       "</table><br/><br/>Notes:<br/>[1] Standard Errors assume that the covariance matrix of the errors is correctly specified."
      ],
      "text/plain": [
       "<class 'statsmodels.iolib.summary.Summary'>\n",
       "\"\"\"\n",
       "                            OLS Regression Results                            \n",
       "==============================================================================\n",
       "Dep. Variable:                  price   R-squared:                       0.534\n",
       "Model:                            OLS   Adj. R-squared:                  0.533\n",
       "Method:                 Least Squares   F-statistic:                     3255.\n",
       "Date:                Thu, 26 May 2022   Prob (F-statistic):               0.00\n",
       "Time:                        01:21:23   Log-Likelihood:                -4708.9\n",
       "No. Observations:               14236   AIC:                             9430.\n",
       "Df Residuals:                   14230   BIC:                             9475.\n",
       "Df Model:                           5                                         \n",
       "Covariance Type:            nonrobust                                         \n",
       "===================================================================================\n",
       "                      coef    std err          t      P>|t|      [0.025      0.975]\n",
       "-----------------------------------------------------------------------------------\n",
       "const               8.3814      0.072    116.477      0.000       8.240       8.522\n",
       "grade               0.1877      0.004     48.421      0.000       0.180       0.195\n",
       "sqft_living_log     0.4379      0.012     37.393      0.000       0.415       0.461\n",
       "bathrooms          -0.0397      0.005     -8.102      0.000      -0.049      -0.030\n",
       "view                0.1034      0.004     24.060      0.000       0.095       0.112\n",
       "waterfront          0.3377      0.041      8.229      0.000       0.257       0.418\n",
       "==============================================================================\n",
       "Omnibus:                       17.456   Durbin-Watson:                   1.993\n",
       "Prob(Omnibus):                  0.000   Jarque-Bera (JB):               15.244\n",
       "Skew:                           0.024   Prob(JB):                     0.000490\n",
       "Kurtosis:                       2.847   Cond. No.                         287.\n",
       "==============================================================================\n",
       "\n",
       "Notes:\n",
       "[1] Standard Errors assume that the covariance matrix of the errors is correctly specified.\n",
       "\"\"\""
      ]
     },
     "execution_count": 81,
     "metadata": {},
     "output_type": "execute_result"
    }
   ],
   "source": [
    "model2 = sm.OLS(y_train_log, sm.add_constant(secondX)).fit()\n",
    "model2.summary()"
   ]
  },
  {
   "cell_type": "markdown",
   "metadata": {},
   "source": [
    "R^2 has increased\n",
    "p-values round to 0\n",
    "assumptions for normality and homoscedasticity still hold."
   ]
  },
  {
   "cell_type": "code",
   "execution_count": 82,
   "metadata": {},
   "outputs": [
    {
     "data": {
      "image/png": "[encoded data removed]",
      "text/plain": [
       "<Figure size 432x288 with 1 Axes>"
      ]
     },
     "metadata": {
      "needs_background": "light"
     },
     "output_type": "display_data"
    }
   ],
   "source": [
    "preds = model2.predict(sm.add_constant(secondX))\n",
    "residuals = model2.resid\n",
    "sm.graphics.qqplot(residuals, dist=stats.norm, line='45', fit=True);"
   ]
  },
  {
   "cell_type": "code",
   "execution_count": 83,
   "metadata": {},
   "outputs": [
    {
     "data": {
      "image/png": "[encoded data removed]",
      "text/plain": [
       "<Figure size 432x288 with 1 Axes>"
      ]
     },
     "metadata": {
      "needs_background": "light"
     },
     "output_type": "display_data"
    }
   ],
   "source": [
    "y_pred = model2.predict(sm.add_constant(secondX))\n",
    "sns.residplot(x = y_pred, y = residuals);"
   ]
  },
  {
   "cell_type": "markdown",
   "metadata": {},
   "source": [
    "### Model 3"
   ]
  },
  {
   "cell_type": "markdown",
   "metadata": {},
   "source": [
    "Adding in our dummy encoded variables to see if location can account for any variance in the data."
   ]
  },
  {
   "cell_type": "code",
   "execution_count": 84,
   "metadata": {},
   "outputs": [],
   "source": [
    "thirdX = pd.concat([secondX, X_train_cat], axis=1)"
   ]
  },
  {
   "cell_type": "code",
   "execution_count": 123,
   "metadata": {},
   "outputs": [
    {
     "data": {
      "text/html": [
       "<table class=\"simpletable\">\n",
       "<caption>OLS Regression Results</caption>\n",
       "<tr>\n",
       "  <th>Dep. Variable:</th>          <td>price</td>      <th>  R-squared:         </th> <td>   0.737</td>\n",
       "</tr>\n",
       "<tr>\n",
       "  <th>Model:</th>                   <td>OLS</td>       <th>  Adj. R-squared:    </th> <td>   0.737</td>\n",
       "</tr>\n",
       "<tr>\n",
       "  <th>Method:</th>             <td>Least Squares</td>  <th>  F-statistic:       </th> <td>   2100.</td>\n",
       "</tr>\n",
       "<tr>\n",
       "  <th>Date:</th>             <td>Thu, 26 May 2022</td> <th>  Prob (F-statistic):</th>  <td>  0.00</td> \n",
       "</tr>\n",
       "<tr>\n",
       "  <th>Time:</th>                 <td>12:53:21</td>     <th>  Log-Likelihood:    </th> <td> -622.53</td>\n",
       "</tr>\n",
       "<tr>\n",
       "  <th>No. Observations:</th>      <td> 14236</td>      <th>  AIC:               </th> <td>   1285.</td>\n",
       "</tr>\n",
       "<tr>\n",
       "  <th>Df Residuals:</th>          <td> 14216</td>      <th>  BIC:               </th> <td>   1436.</td>\n",
       "</tr>\n",
       "<tr>\n",
       "  <th>Df Model:</th>              <td>    19</td>      <th>                     </th>     <td> </td>   \n",
       "</tr>\n",
       "<tr>\n",
       "  <th>Covariance Type:</th>      <td>nonrobust</td>    <th>                     </th>     <td> </td>   \n",
       "</tr>\n",
       "</table>\n",
       "<table class=\"simpletable\">\n",
       "<tr>\n",
       "         <td></td>            <th>coef</th>     <th>std err</th>      <th>t</th>      <th>P>|t|</th>  <th>[0.025</th>    <th>0.975]</th>  \n",
       "</tr>\n",
       "<tr>\n",
       "  <th>const</th>           <td>    8.4630</td> <td>    0.055</td> <td>  153.269</td> <td> 0.000</td> <td>    8.355</td> <td>    8.571</td>\n",
       "</tr>\n",
       "<tr>\n",
       "  <th>grade</th>           <td>    0.1492</td> <td>    0.003</td> <td>   49.642</td> <td> 0.000</td> <td>    0.143</td> <td>    0.155</td>\n",
       "</tr>\n",
       "<tr>\n",
       "  <th>sqft_living_log</th> <td>    0.4709</td> <td>    0.009</td> <td>   52.870</td> <td> 0.000</td> <td>    0.453</td> <td>    0.488</td>\n",
       "</tr>\n",
       "<tr>\n",
       "  <th>bathrooms</th>       <td>   -0.0035</td> <td>    0.004</td> <td>   -0.925</td> <td> 0.355</td> <td>   -0.011</td> <td>    0.004</td>\n",
       "</tr>\n",
       "<tr>\n",
       "  <th>view</th>            <td>    0.0664</td> <td>    0.003</td> <td>   20.120</td> <td> 0.000</td> <td>    0.060</td> <td>    0.073</td>\n",
       "</tr>\n",
       "<tr>\n",
       "  <th>waterfront</th>      <td>    0.3746</td> <td>    0.031</td> <td>   12.147</td> <td> 0.000</td> <td>    0.314</td> <td>    0.435</td>\n",
       "</tr>\n",
       "<tr>\n",
       "  <th>Auburn</th>          <td>   -0.5844</td> <td>    0.011</td> <td>  -50.925</td> <td> 0.000</td> <td>   -0.607</td> <td>   -0.562</td>\n",
       "</tr>\n",
       "<tr>\n",
       "  <th>Bellevue</th>        <td>    0.1837</td> <td>    0.010</td> <td>   18.856</td> <td> 0.000</td> <td>    0.165</td> <td>    0.203</td>\n",
       "</tr>\n",
       "<tr>\n",
       "  <th>Federal Way</th>     <td>   -0.6129</td> <td>    0.011</td> <td>  -57.016</td> <td> 0.000</td> <td>   -0.634</td> <td>   -0.592</td>\n",
       "</tr>\n",
       "<tr>\n",
       "  <th>Issaquah</th>        <td>   -0.0689</td> <td>    0.012</td> <td>   -5.975</td> <td> 0.000</td> <td>   -0.091</td> <td>   -0.046</td>\n",
       "</tr>\n",
       "<tr>\n",
       "  <th>Kenmore</th>         <td>   -0.1867</td> <td>    0.017</td> <td>  -10.780</td> <td> 0.000</td> <td>   -0.221</td> <td>   -0.153</td>\n",
       "</tr>\n",
       "<tr>\n",
       "  <th>Kent</th>            <td>   -0.5187</td> <td>    0.009</td> <td>  -54.794</td> <td> 0.000</td> <td>   -0.537</td> <td>   -0.500</td>\n",
       "</tr>\n",
       "<tr>\n",
       "  <th>Kirkland</th>        <td>    0.0456</td> <td>    0.010</td> <td>    4.655</td> <td> 0.000</td> <td>    0.026</td> <td>    0.065</td>\n",
       "</tr>\n",
       "<tr>\n",
       "  <th>Maple Valley</th>    <td>   -0.4352</td> <td>    0.012</td> <td>  -34.822</td> <td> 0.000</td> <td>   -0.460</td> <td>   -0.411</td>\n",
       "</tr>\n",
       "<tr>\n",
       "  <th>Mercer Island</th>   <td>    0.3021</td> <td>    0.019</td> <td>   16.322</td> <td> 0.000</td> <td>    0.266</td> <td>    0.338</td>\n",
       "</tr>\n",
       "<tr>\n",
       "  <th>Redmond</th>         <td>    0.0129</td> <td>    0.010</td> <td>    1.265</td> <td> 0.206</td> <td>   -0.007</td> <td>    0.033</td>\n",
       "</tr>\n",
       "<tr>\n",
       "  <th>Renton</th>          <td>   -0.3263</td> <td>    0.008</td> <td>  -40.529</td> <td> 0.000</td> <td>   -0.342</td> <td>   -0.311</td>\n",
       "</tr>\n",
       "<tr>\n",
       "  <th>Sammamish</th>       <td>   -0.0579</td> <td>    0.011</td> <td>   -5.128</td> <td> 0.000</td> <td>   -0.080</td> <td>   -0.036</td>\n",
       "</tr>\n",
       "<tr>\n",
       "  <th>Snoqualmie</th>      <td>   -0.1930</td> <td>    0.017</td> <td>  -11.569</td> <td> 0.000</td> <td>   -0.226</td> <td>   -0.160</td>\n",
       "</tr>\n",
       "<tr>\n",
       "  <th>Woodinville</th>     <td>   -0.0955</td> <td>    0.018</td> <td>   -5.433</td> <td> 0.000</td> <td>   -0.130</td> <td>   -0.061</td>\n",
       "</tr>\n",
       "</table>\n",
       "<table class=\"simpletable\">\n",
       "<tr>\n",
       "  <th>Omnibus:</th>       <td>406.866</td> <th>  Durbin-Watson:     </th> <td>   1.987</td> \n",
       "</tr>\n",
       "<tr>\n",
       "  <th>Prob(Omnibus):</th> <td> 0.000</td>  <th>  Jarque-Bera (JB):  </th> <td> 970.156</td> \n",
       "</tr>\n",
       "<tr>\n",
       "  <th>Skew:</th>          <td>-0.112</td>  <th>  Prob(JB):          </th> <td>2.15e-211</td>\n",
       "</tr>\n",
       "<tr>\n",
       "  <th>Kurtosis:</th>      <td> 4.259</td>  <th>  Cond. No.          </th> <td>    294.</td> \n",
       "</tr>\n",
       "</table><br/><br/>Notes:<br/>[1] Standard Errors assume that the covariance matrix of the errors is correctly specified."
      ],
      "text/plain": [
       "<class 'statsmodels.iolib.summary.Summary'>\n",
       "\"\"\"\n",
       "                            OLS Regression Results                            \n",
       "==============================================================================\n",
       "Dep. Variable:                  price   R-squared:                       0.737\n",
       "Model:                            OLS   Adj. R-squared:                  0.737\n",
       "Method:                 Least Squares   F-statistic:                     2100.\n",
       "Date:                Thu, 26 May 2022   Prob (F-statistic):               0.00\n",
       "Time:                        12:53:21   Log-Likelihood:                -622.53\n",
       "No. Observations:               14236   AIC:                             1285.\n",
       "Df Residuals:                   14216   BIC:                             1436.\n",
       "Df Model:                          19                                         \n",
       "Covariance Type:            nonrobust                                         \n",
       "===================================================================================\n",
       "                      coef    std err          t      P>|t|      [0.025      0.975]\n",
       "-----------------------------------------------------------------------------------\n",
       "const               8.4630      0.055    153.269      0.000       8.355       8.571\n",
       "grade               0.1492      0.003     49.642      0.000       0.143       0.155\n",
       "sqft_living_log     0.4709      0.009     52.870      0.000       0.453       0.488\n",
       "bathrooms          -0.0035      0.004     -0.925      0.355      -0.011       0.004\n",
       "view                0.0664      0.003     20.120      0.000       0.060       0.073\n",
       "waterfront          0.3746      0.031     12.147      0.000       0.314       0.435\n",
       "Auburn             -0.5844      0.011    -50.925      0.000      -0.607      -0.562\n",
       "Bellevue            0.1837      0.010     18.856      0.000       0.165       0.203\n",
       "Federal Way        -0.6129      0.011    -57.016      0.000      -0.634      -0.592\n",
       "Issaquah           -0.0689      0.012     -5.975      0.000      -0.091      -0.046\n",
       "Kenmore            -0.1867      0.017    -10.780      0.000      -0.221      -0.153\n",
       "Kent               -0.5187      0.009    -54.794      0.000      -0.537      -0.500\n",
       "Kirkland            0.0456      0.010      4.655      0.000       0.026       0.065\n",
       "Maple Valley       -0.4352      0.012    -34.822      0.000      -0.460      -0.411\n",
       "Mercer Island       0.3021      0.019     16.322      0.000       0.266       0.338\n",
       "Redmond             0.0129      0.010      1.265      0.206      -0.007       0.033\n",
       "Renton             -0.3263      0.008    -40.529      0.000      -0.342      -0.311\n",
       "Sammamish          -0.0579      0.011     -5.128      0.000      -0.080      -0.036\n",
       "Snoqualmie         -0.1930      0.017    -11.569      0.000      -0.226      -0.160\n",
       "Woodinville        -0.0955      0.018     -5.433      0.000      -0.130      -0.061\n",
       "==============================================================================\n",
       "Omnibus:                      406.866   Durbin-Watson:                   1.987\n",
       "Prob(Omnibus):                  0.000   Jarque-Bera (JB):              970.156\n",
       "Skew:                          -0.112   Prob(JB):                    2.15e-211\n",
       "Kurtosis:                       4.259   Cond. No.                         294.\n",
       "==============================================================================\n",
       "\n",
       "Notes:\n",
       "[1] Standard Errors assume that the covariance matrix of the errors is correctly specified.\n",
       "\"\"\""
      ]
     },
     "execution_count": 123,
     "metadata": {},
     "output_type": "execute_result"
    }
   ],
   "source": [
    "model3 = sm.OLS(y_train_log, sm.add_constant(thirdX)).fit()\n",
    "model3.summary()"
   ]
  },
  {
   "cell_type": "markdown",
   "metadata": {},
   "source": [
    "R^2 score has increased to 0.737\n",
    "p=value for bathrooms now 0.355 we can consider dropping for next model.\n",
    "p-value for federal way also showing to be barely non significant at 0.057.\n",
    "Since we dropped Seattle dummy variable. coeffiencents for listed cities are in reference to Seattle. \n",
    "the price of a similar house in Auburn is around 58% cheaper than seattle."
   ]
  },
  {
   "cell_type": "code",
   "execution_count": 86,
   "metadata": {},
   "outputs": [
    {
     "data": {
      "image/png": "[encoded data removed]",
      "text/plain": [
       "<Figure size 432x288 with 1 Axes>"
      ]
     },
     "metadata": {
      "needs_background": "light"
     },
     "output_type": "display_data"
    }
   ],
   "source": [
    "preds = model3.predict(sm.add_constant(thirdX))\n",
    "residuals = model3.resid\n",
    "sm.graphics.qqplot(residuals, dist=stats.norm, line='45', fit=True);"
   ]
  },
  {
   "cell_type": "code",
   "execution_count": 87,
   "metadata": {},
   "outputs": [
    {
     "data": {
      "image/png": "[encoded data removed]",
      "text/plain": [
       "<Figure size 432x288 with 1 Axes>"
      ]
     },
     "metadata": {
      "needs_background": "light"
     },
     "output_type": "display_data"
    }
   ],
   "source": [
    "y_pred = model3.predict(sm.add_constant(thirdX))\n",
    "sns.residplot(x = y_pred, y = residuals);"
   ]
  },
  {
   "cell_type": "markdown",
   "metadata": {},
   "source": [
    "### Model 4"
   ]
  },
  {
   "cell_type": "markdown",
   "metadata": {},
   "source": [
    "Instead of manually going through models of different variables. We can take advantage of RFE, recurrsive feature elimination. "
   ]
  },
  {
   "cell_type": "code",
   "execution_count": 88,
   "metadata": {},
   "outputs": [],
   "source": [
    "X_train_num.sqft_living = np.log(X_train_num.sqft_living)"
   ]
  },
  {
   "cell_type": "code",
   "execution_count": 89,
   "metadata": {},
   "outputs": [],
   "source": [
    "rfeX = pd.concat([X_train_num, X_train_cat], axis = 1)"
   ]
  },
  {
   "cell_type": "code",
   "execution_count": 105,
   "metadata": {},
   "outputs": [],
   "source": [
    "lr_rfe = LinearRegression()\n",
    "select = RFE(lr_rfe, n_features_to_select=20)"
   ]
  },
  {
   "cell_type": "code",
   "execution_count": 106,
   "metadata": {},
   "outputs": [
    {
     "data": {
      "text/plain": [
       "RFE(estimator=LinearRegression(), n_features_to_select=20)"
      ]
     },
     "execution_count": 106,
     "metadata": {},
     "output_type": "execute_result"
    }
   ],
   "source": [
    "select.fit(X=rfeX, y=y_train_log)"
   ]
  },
  {
   "cell_type": "code",
   "execution_count": 107,
   "metadata": {},
   "outputs": [],
   "source": [
    "features = select.support_"
   ]
  },
  {
   "cell_type": "code",
   "execution_count": 108,
   "metadata": {},
   "outputs": [],
   "source": [
    "finalX = rfeX[rfeX.columns[features]]"
   ]
  },
  {
   "cell_type": "code",
   "execution_count": 120,
   "metadata": {},
   "outputs": [
    {
     "data": {
      "text/html": [
       "<table class=\"simpletable\">\n",
       "<caption>OLS Regression Results</caption>\n",
       "<tr>\n",
       "  <th>Dep. Variable:</th>          <td>price</td>      <th>  R-squared:         </th> <td>   0.747</td>\n",
       "</tr>\n",
       "<tr>\n",
       "  <th>Model:</th>                   <td>OLS</td>       <th>  Adj. R-squared:    </th> <td>   0.746</td>\n",
       "</tr>\n",
       "<tr>\n",
       "  <th>Method:</th>             <td>Least Squares</td>  <th>  F-statistic:       </th> <td>   2096.</td>\n",
       "</tr>\n",
       "<tr>\n",
       "  <th>Date:</th>             <td>Thu, 26 May 2022</td> <th>  Prob (F-statistic):</th>  <td>  0.00</td> \n",
       "</tr>\n",
       "<tr>\n",
       "  <th>Time:</th>                 <td>12:42:40</td>     <th>  Log-Likelihood:    </th> <td> -360.77</td>\n",
       "</tr>\n",
       "<tr>\n",
       "  <th>No. Observations:</th>      <td> 14236</td>      <th>  AIC:               </th> <td>   763.5</td>\n",
       "</tr>\n",
       "<tr>\n",
       "  <th>Df Residuals:</th>          <td> 14215</td>      <th>  BIC:               </th> <td>   922.4</td>\n",
       "</tr>\n",
       "<tr>\n",
       "  <th>Df Model:</th>              <td>    20</td>      <th>                     </th>     <td> </td>   \n",
       "</tr>\n",
       "<tr>\n",
       "  <th>Covariance Type:</th>      <td>nonrobust</td>    <th>                     </th>     <td> </td>   \n",
       "</tr>\n",
       "</table>\n",
       "<table class=\"simpletable\">\n",
       "<tr>\n",
       "        <td></td>           <th>coef</th>     <th>std err</th>      <th>t</th>      <th>P>|t|</th>  <th>[0.025</th>    <th>0.975]</th>  \n",
       "</tr>\n",
       "<tr>\n",
       "  <th>const</th>         <td>    8.2617</td> <td>    0.047</td> <td>  175.012</td> <td> 0.000</td> <td>    8.169</td> <td>    8.354</td>\n",
       "</tr>\n",
       "<tr>\n",
       "  <th>sqft_living</th>   <td>    0.4473</td> <td>    0.008</td> <td>   57.831</td> <td> 0.000</td> <td>    0.432</td> <td>    0.462</td>\n",
       "</tr>\n",
       "<tr>\n",
       "  <th>floors</th>        <td>    0.0324</td> <td>    0.005</td> <td>    7.081</td> <td> 0.000</td> <td>    0.023</td> <td>    0.041</td>\n",
       "</tr>\n",
       "<tr>\n",
       "  <th>waterfront</th>    <td>    0.3770</td> <td>    0.030</td> <td>   12.444</td> <td> 0.000</td> <td>    0.318</td> <td>    0.436</td>\n",
       "</tr>\n",
       "<tr>\n",
       "  <th>view</th>          <td>    0.0650</td> <td>    0.003</td> <td>   19.945</td> <td> 0.000</td> <td>    0.059</td> <td>    0.071</td>\n",
       "</tr>\n",
       "<tr>\n",
       "  <th>condition</th>     <td>    0.0808</td> <td>    0.004</td> <td>   22.999</td> <td> 0.000</td> <td>    0.074</td> <td>    0.088</td>\n",
       "</tr>\n",
       "<tr>\n",
       "  <th>grade</th>         <td>    0.1548</td> <td>    0.003</td> <td>   50.514</td> <td> 0.000</td> <td>    0.149</td> <td>    0.161</td>\n",
       "</tr>\n",
       "<tr>\n",
       "  <th>Auburn</th>        <td>   -0.5744</td> <td>    0.011</td> <td>  -50.964</td> <td> 0.000</td> <td>   -0.596</td> <td>   -0.552</td>\n",
       "</tr>\n",
       "<tr>\n",
       "  <th>Bellevue</th>      <td>    0.1740</td> <td>    0.010</td> <td>   17.906</td> <td> 0.000</td> <td>    0.155</td> <td>    0.193</td>\n",
       "</tr>\n",
       "<tr>\n",
       "  <th>Federal Way</th>   <td>   -0.6028</td> <td>    0.011</td> <td>  -56.855</td> <td> 0.000</td> <td>   -0.624</td> <td>   -0.582</td>\n",
       "</tr>\n",
       "<tr>\n",
       "  <th>Issaquah</th>      <td>   -0.0652</td> <td>    0.011</td> <td>   -5.782</td> <td> 0.000</td> <td>   -0.087</td> <td>   -0.043</td>\n",
       "</tr>\n",
       "<tr>\n",
       "  <th>Kenmore</th>       <td>   -0.1706</td> <td>    0.017</td> <td>  -10.016</td> <td> 0.000</td> <td>   -0.204</td> <td>   -0.137</td>\n",
       "</tr>\n",
       "<tr>\n",
       "  <th>Kent</th>          <td>   -0.5205</td> <td>    0.009</td> <td>  -56.194</td> <td> 0.000</td> <td>   -0.539</td> <td>   -0.502</td>\n",
       "</tr>\n",
       "<tr>\n",
       "  <th>Kirkland</th>      <td>    0.0515</td> <td>    0.010</td> <td>    5.341</td> <td> 0.000</td> <td>    0.033</td> <td>    0.070</td>\n",
       "</tr>\n",
       "<tr>\n",
       "  <th>Maple Valley</th>  <td>   -0.4218</td> <td>    0.012</td> <td>  -34.420</td> <td> 0.000</td> <td>   -0.446</td> <td>   -0.398</td>\n",
       "</tr>\n",
       "<tr>\n",
       "  <th>Mercer Island</th> <td>    0.2732</td> <td>    0.018</td> <td>   14.933</td> <td> 0.000</td> <td>    0.237</td> <td>    0.309</td>\n",
       "</tr>\n",
       "<tr>\n",
       "  <th>Redmond</th>       <td>    0.0289</td> <td>    0.010</td> <td>    2.874</td> <td> 0.004</td> <td>    0.009</td> <td>    0.049</td>\n",
       "</tr>\n",
       "<tr>\n",
       "  <th>Renton</th>        <td>   -0.3296</td> <td>    0.008</td> <td>  -41.675</td> <td> 0.000</td> <td>   -0.345</td> <td>   -0.314</td>\n",
       "</tr>\n",
       "<tr>\n",
       "  <th>Sammamish</th>     <td>   -0.0429</td> <td>    0.011</td> <td>   -3.866</td> <td> 0.000</td> <td>   -0.065</td> <td>   -0.021</td>\n",
       "</tr>\n",
       "<tr>\n",
       "  <th>Snoqualmie</th>    <td>   -0.1715</td> <td>    0.016</td> <td>  -10.444</td> <td> 0.000</td> <td>   -0.204</td> <td>   -0.139</td>\n",
       "</tr>\n",
       "<tr>\n",
       "  <th>Woodinville</th>   <td>   -0.0808</td> <td>    0.017</td> <td>   -4.677</td> <td> 0.000</td> <td>   -0.115</td> <td>   -0.047</td>\n",
       "</tr>\n",
       "</table>\n",
       "<table class=\"simpletable\">\n",
       "<tr>\n",
       "  <th>Omnibus:</th>       <td>377.232</td> <th>  Durbin-Watson:     </th> <td>   1.983</td> \n",
       "</tr>\n",
       "<tr>\n",
       "  <th>Prob(Omnibus):</th> <td> 0.000</td>  <th>  Jarque-Bera (JB):  </th> <td> 915.728</td> \n",
       "</tr>\n",
       "<tr>\n",
       "  <th>Skew:</th>          <td>-0.061</td>  <th>  Prob(JB):          </th> <td>1.42e-199</td>\n",
       "</tr>\n",
       "<tr>\n",
       "  <th>Kurtosis:</th>      <td> 4.237</td>  <th>  Cond. No.          </th> <td>    264.</td> \n",
       "</tr>\n",
       "</table><br/><br/>Notes:<br/>[1] Standard Errors assume that the covariance matrix of the errors is correctly specified."
      ],
      "text/plain": [
       "<class 'statsmodels.iolib.summary.Summary'>\n",
       "\"\"\"\n",
       "                            OLS Regression Results                            \n",
       "==============================================================================\n",
       "Dep. Variable:                  price   R-squared:                       0.747\n",
       "Model:                            OLS   Adj. R-squared:                  0.746\n",
       "Method:                 Least Squares   F-statistic:                     2096.\n",
       "Date:                Thu, 26 May 2022   Prob (F-statistic):               0.00\n",
       "Time:                        12:42:40   Log-Likelihood:                -360.77\n",
       "No. Observations:               14236   AIC:                             763.5\n",
       "Df Residuals:                   14215   BIC:                             922.4\n",
       "Df Model:                          20                                         \n",
       "Covariance Type:            nonrobust                                         \n",
       "=================================================================================\n",
       "                    coef    std err          t      P>|t|      [0.025      0.975]\n",
       "---------------------------------------------------------------------------------\n",
       "const             8.2617      0.047    175.012      0.000       8.169       8.354\n",
       "sqft_living       0.4473      0.008     57.831      0.000       0.432       0.462\n",
       "floors            0.0324      0.005      7.081      0.000       0.023       0.041\n",
       "waterfront        0.3770      0.030     12.444      0.000       0.318       0.436\n",
       "view              0.0650      0.003     19.945      0.000       0.059       0.071\n",
       "condition         0.0808      0.004     22.999      0.000       0.074       0.088\n",
       "grade             0.1548      0.003     50.514      0.000       0.149       0.161\n",
       "Auburn           -0.5744      0.011    -50.964      0.000      -0.596      -0.552\n",
       "Bellevue          0.1740      0.010     17.906      0.000       0.155       0.193\n",
       "Federal Way      -0.6028      0.011    -56.855      0.000      -0.624      -0.582\n",
       "Issaquah         -0.0652      0.011     -5.782      0.000      -0.087      -0.043\n",
       "Kenmore          -0.1706      0.017    -10.016      0.000      -0.204      -0.137\n",
       "Kent             -0.5205      0.009    -56.194      0.000      -0.539      -0.502\n",
       "Kirkland          0.0515      0.010      5.341      0.000       0.033       0.070\n",
       "Maple Valley     -0.4218      0.012    -34.420      0.000      -0.446      -0.398\n",
       "Mercer Island     0.2732      0.018     14.933      0.000       0.237       0.309\n",
       "Redmond           0.0289      0.010      2.874      0.004       0.009       0.049\n",
       "Renton           -0.3296      0.008    -41.675      0.000      -0.345      -0.314\n",
       "Sammamish        -0.0429      0.011     -3.866      0.000      -0.065      -0.021\n",
       "Snoqualmie       -0.1715      0.016    -10.444      0.000      -0.204      -0.139\n",
       "Woodinville      -0.0808      0.017     -4.677      0.000      -0.115      -0.047\n",
       "==============================================================================\n",
       "Omnibus:                      377.232   Durbin-Watson:                   1.983\n",
       "Prob(Omnibus):                  0.000   Jarque-Bera (JB):              915.728\n",
       "Skew:                          -0.061   Prob(JB):                    1.42e-199\n",
       "Kurtosis:                       4.237   Cond. No.                         264.\n",
       "==============================================================================\n",
       "\n",
       "Notes:\n",
       "[1] Standard Errors assume that the covariance matrix of the errors is correctly specified.\n",
       "\"\"\""
      ]
     },
     "execution_count": 120,
     "metadata": {},
     "output_type": "execute_result"
    }
   ],
   "source": [
    "model4 = sm.OLS(y_train_log, sm.add_constant(finalX)).fit()\n",
    "model4.summary()"
   ]
  },
  {
   "cell_type": "markdown",
   "metadata": {},
   "source": [
    "strong R^2 of 0.747, adjusted R^2 also high. \n",
    "p-values of all predictors round to 0\n",
    "Strongest predictors show to be location based. followed by grade and condition of the house."
   ]
  },
  {
   "cell_type": "code",
   "execution_count": 121,
   "metadata": {},
   "outputs": [
    {
     "data": {
      "text/plain": [
       "0.24836430229797823"
      ]
     },
     "execution_count": 121,
     "metadata": {},
     "output_type": "execute_result"
    }
   ],
   "source": [
    "np.sqrt(model4.mse_resid)"
   ]
  },
  {
   "cell_type": "markdown",
   "metadata": {},
   "source": []
  },
  {
   "cell_type": "code",
   "execution_count": 95,
   "metadata": {},
   "outputs": [
    {
     "data": {
      "image/png": "[encoded data removed]",
      "text/plain": [
       "<Figure size 432x288 with 1 Axes>"
      ]
     },
     "metadata": {
      "needs_background": "light"
     },
     "output_type": "display_data"
    }
   ],
   "source": [
    "preds = model4.predict(sm.add_constant(finalX))\n",
    "residuals = model4.resid\n",
    "sm.graphics.qqplot(residuals, dist=stats.norm, line='45', fit=True);"
   ]
  },
  {
   "cell_type": "code",
   "execution_count": 96,
   "metadata": {},
   "outputs": [
    {
     "data": {
      "image/png": "[encoded data removed]",
      "text/plain": [
       "<Figure size 432x288 with 1 Axes>"
      ]
     },
     "metadata": {
      "needs_background": "light"
     },
     "output_type": "display_data"
    }
   ],
   "source": [
    "y_pred = model4.predict(sm.add_constant(finalX))\n",
    "sns.residplot(x = y_pred, y = residuals);"
   ]
  },
  {
   "cell_type": "markdown",
   "metadata": {},
   "source": [
    "### Model 5"
   ]
  },
  {
   "cell_type": "code",
   "execution_count": 124,
   "metadata": {},
   "outputs": [],
   "source": [
    "all = pd.concat([X_train_num, X_train_cat], axis = 1)"
   ]
  },
  {
   "cell_type": "code",
   "execution_count": 125,
   "metadata": {},
   "outputs": [
    {
     "data": {
      "text/html": [
       "<table class=\"simpletable\">\n",
       "<caption>OLS Regression Results</caption>\n",
       "<tr>\n",
       "  <th>Dep. Variable:</th>          <td>price</td>      <th>  R-squared:         </th> <td>   0.775</td>\n",
       "</tr>\n",
       "<tr>\n",
       "  <th>Model:</th>                   <td>OLS</td>       <th>  Adj. R-squared:    </th> <td>   0.775</td>\n",
       "</tr>\n",
       "<tr>\n",
       "  <th>Method:</th>             <td>Least Squares</td>  <th>  F-statistic:       </th> <td>   1748.</td>\n",
       "</tr>\n",
       "<tr>\n",
       "  <th>Date:</th>             <td>Thu, 26 May 2022</td> <th>  Prob (F-statistic):</th>  <td>  0.00</td> \n",
       "</tr>\n",
       "<tr>\n",
       "  <th>Time:</th>                 <td>13:02:57</td>     <th>  Log-Likelihood:    </th> <td>  481.62</td>\n",
       "</tr>\n",
       "<tr>\n",
       "  <th>No. Observations:</th>      <td> 14236</td>      <th>  AIC:               </th> <td>  -905.2</td>\n",
       "</tr>\n",
       "<tr>\n",
       "  <th>Df Residuals:</th>          <td> 14207</td>      <th>  BIC:               </th> <td>  -685.9</td>\n",
       "</tr>\n",
       "<tr>\n",
       "  <th>Df Model:</th>              <td>    28</td>      <th>                     </th>     <td> </td>   \n",
       "</tr>\n",
       "<tr>\n",
       "  <th>Covariance Type:</th>      <td>nonrobust</td>    <th>                     </th>     <td> </td>   \n",
       "</tr>\n",
       "</table>\n",
       "<table class=\"simpletable\">\n",
       "<tr>\n",
       "        <td></td>           <th>coef</th>     <th>std err</th>      <th>t</th>      <th>P>|t|</th>  <th>[0.025</th>    <th>0.975]</th>  \n",
       "</tr>\n",
       "<tr>\n",
       "  <th>const</th>         <td>    9.3157</td> <td>    0.104</td> <td>   89.573</td> <td> 0.000</td> <td>    9.112</td> <td>    9.520</td>\n",
       "</tr>\n",
       "<tr>\n",
       "  <th>bedrooms</th>      <td>   -0.0290</td> <td>    0.003</td> <td>   -9.253</td> <td> 0.000</td> <td>   -0.035</td> <td>   -0.023</td>\n",
       "</tr>\n",
       "<tr>\n",
       "  <th>bathrooms</th>     <td>    0.0470</td> <td>    0.004</td> <td>   11.445</td> <td> 0.000</td> <td>    0.039</td> <td>    0.055</td>\n",
       "</tr>\n",
       "<tr>\n",
       "  <th>sqft_living</th>   <td>    0.2500</td> <td>    0.016</td> <td>   15.338</td> <td> 0.000</td> <td>    0.218</td> <td>    0.282</td>\n",
       "</tr>\n",
       "<tr>\n",
       "  <th>sqft_lot</th>      <td> 9.265e-07</td> <td> 2.27e-07</td> <td>    4.081</td> <td> 0.000</td> <td> 4.81e-07</td> <td> 1.37e-06</td>\n",
       "</tr>\n",
       "<tr>\n",
       "  <th>floors</th>        <td>    0.0770</td> <td>    0.005</td> <td>   14.137</td> <td> 0.000</td> <td>    0.066</td> <td>    0.088</td>\n",
       "</tr>\n",
       "<tr>\n",
       "  <th>waterfront</th>    <td>    0.3765</td> <td>    0.029</td> <td>   13.154</td> <td> 0.000</td> <td>    0.320</td> <td>    0.433</td>\n",
       "</tr>\n",
       "<tr>\n",
       "  <th>view</th>          <td>    0.0450</td> <td>    0.003</td> <td>   14.235</td> <td> 0.000</td> <td>    0.039</td> <td>    0.051</td>\n",
       "</tr>\n",
       "<tr>\n",
       "  <th>condition</th>     <td>    0.0501</td> <td>    0.004</td> <td>   14.324</td> <td> 0.000</td> <td>    0.043</td> <td>    0.057</td>\n",
       "</tr>\n",
       "<tr>\n",
       "  <th>grade</th>         <td>    0.1487</td> <td>    0.003</td> <td>   45.448</td> <td> 0.000</td> <td>    0.142</td> <td>    0.155</td>\n",
       "</tr>\n",
       "<tr>\n",
       "  <th>sqft_above</th>    <td> 7.135e-05</td> <td> 8.47e-06</td> <td>    8.425</td> <td> 0.000</td> <td> 5.48e-05</td> <td>  8.8e-05</td>\n",
       "</tr>\n",
       "<tr>\n",
       "  <th>basement</th>      <td>    0.0662</td> <td>    0.007</td> <td>    9.137</td> <td> 0.000</td> <td>    0.052</td> <td>    0.080</td>\n",
       "</tr>\n",
       "<tr>\n",
       "  <th>sqft_living15</th> <td> 8.599e-05</td> <td> 5.36e-06</td> <td>   16.029</td> <td> 0.000</td> <td> 7.55e-05</td> <td> 9.65e-05</td>\n",
       "</tr>\n",
       "<tr>\n",
       "  <th>sqft_lot15</th>    <td>-1.448e-06</td> <td> 2.57e-07</td> <td>   -5.628</td> <td> 0.000</td> <td>-1.95e-06</td> <td>-9.44e-07</td>\n",
       "</tr>\n",
       "<tr>\n",
       "  <th>house_age</th>     <td>    0.0036</td> <td>    0.000</td> <td>   33.785</td> <td> 0.000</td> <td>    0.003</td> <td>    0.004</td>\n",
       "</tr>\n",
       "<tr>\n",
       "  <th>Auburn</th>        <td>   -0.4859</td> <td>    0.011</td> <td>  -43.101</td> <td> 0.000</td> <td>   -0.508</td> <td>   -0.464</td>\n",
       "</tr>\n",
       "<tr>\n",
       "  <th>Bellevue</th>      <td>    0.2049</td> <td>    0.010</td> <td>   21.316</td> <td> 0.000</td> <td>    0.186</td> <td>    0.224</td>\n",
       "</tr>\n",
       "<tr>\n",
       "  <th>Federal Way</th>   <td>   -0.5303</td> <td>    0.010</td> <td>  -50.937</td> <td> 0.000</td> <td>   -0.551</td> <td>   -0.510</td>\n",
       "</tr>\n",
       "<tr>\n",
       "  <th>Issaquah</th>      <td>   -0.0027</td> <td>    0.011</td> <td>   -0.243</td> <td> 0.808</td> <td>   -0.025</td> <td>    0.019</td>\n",
       "</tr>\n",
       "<tr>\n",
       "  <th>Kenmore</th>       <td>   -0.1189</td> <td>    0.016</td> <td>   -7.289</td> <td> 0.000</td> <td>   -0.151</td> <td>   -0.087</td>\n",
       "</tr>\n",
       "<tr>\n",
       "  <th>Kent</th>          <td>   -0.4326</td> <td>    0.010</td> <td>  -45.383</td> <td> 0.000</td> <td>   -0.451</td> <td>   -0.414</td>\n",
       "</tr>\n",
       "<tr>\n",
       "  <th>Kirkland</th>      <td>    0.1103</td> <td>    0.009</td> <td>   11.645</td> <td> 0.000</td> <td>    0.092</td> <td>    0.129</td>\n",
       "</tr>\n",
       "<tr>\n",
       "  <th>Maple Valley</th>  <td>   -0.3304</td> <td>    0.012</td> <td>  -26.601</td> <td> 0.000</td> <td>   -0.355</td> <td>   -0.306</td>\n",
       "</tr>\n",
       "<tr>\n",
       "  <th>Mercer Island</th> <td>    0.2726</td> <td>    0.018</td> <td>   15.513</td> <td> 0.000</td> <td>    0.238</td> <td>    0.307</td>\n",
       "</tr>\n",
       "<tr>\n",
       "  <th>Redmond</th>       <td>    0.0916</td> <td>    0.010</td> <td>    8.892</td> <td> 0.000</td> <td>    0.071</td> <td>    0.112</td>\n",
       "</tr>\n",
       "<tr>\n",
       "  <th>Renton</th>        <td>   -0.2595</td> <td>    0.008</td> <td>  -31.765</td> <td> 0.000</td> <td>   -0.275</td> <td>   -0.243</td>\n",
       "</tr>\n",
       "<tr>\n",
       "  <th>Sammamish</th>     <td>   -0.0091</td> <td>    0.011</td> <td>   -0.807</td> <td> 0.420</td> <td>   -0.031</td> <td>    0.013</td>\n",
       "</tr>\n",
       "<tr>\n",
       "  <th>Snoqualmie</th>    <td>   -0.1189</td> <td>    0.016</td> <td>   -7.339</td> <td> 0.000</td> <td>   -0.151</td> <td>   -0.087</td>\n",
       "</tr>\n",
       "<tr>\n",
       "  <th>Woodinville</th>   <td>   -0.0426</td> <td>    0.017</td> <td>   -2.520</td> <td> 0.012</td> <td>   -0.076</td> <td>   -0.009</td>\n",
       "</tr>\n",
       "</table>\n",
       "<table class=\"simpletable\">\n",
       "<tr>\n",
       "  <th>Omnibus:</th>       <td>464.608</td> <th>  Durbin-Watson:     </th> <td>   1.985</td> \n",
       "</tr>\n",
       "<tr>\n",
       "  <th>Prob(Omnibus):</th> <td> 0.000</td>  <th>  Jarque-Bera (JB):  </th> <td> 986.239</td> \n",
       "</tr>\n",
       "<tr>\n",
       "  <th>Skew:</th>          <td>-0.211</td>  <th>  Prob(JB):          </th> <td>6.93e-215</td>\n",
       "</tr>\n",
       "<tr>\n",
       "  <th>Kurtosis:</th>      <td> 4.219</td>  <th>  Cond. No.          </th> <td>1.21e+06</td> \n",
       "</tr>\n",
       "</table><br/><br/>Notes:<br/>[1] Standard Errors assume that the covariance matrix of the errors is correctly specified.<br/>[2] The condition number is large, 1.21e+06. This might indicate that there are<br/>strong multicollinearity or other numerical problems."
      ],
      "text/plain": [
       "<class 'statsmodels.iolib.summary.Summary'>\n",
       "\"\"\"\n",
       "                            OLS Regression Results                            \n",
       "==============================================================================\n",
       "Dep. Variable:                  price   R-squared:                       0.775\n",
       "Model:                            OLS   Adj. R-squared:                  0.775\n",
       "Method:                 Least Squares   F-statistic:                     1748.\n",
       "Date:                Thu, 26 May 2022   Prob (F-statistic):               0.00\n",
       "Time:                        13:02:57   Log-Likelihood:                 481.62\n",
       "No. Observations:               14236   AIC:                            -905.2\n",
       "Df Residuals:                   14207   BIC:                            -685.9\n",
       "Df Model:                          28                                         \n",
       "Covariance Type:            nonrobust                                         \n",
       "=================================================================================\n",
       "                    coef    std err          t      P>|t|      [0.025      0.975]\n",
       "---------------------------------------------------------------------------------\n",
       "const             9.3157      0.104     89.573      0.000       9.112       9.520\n",
       "bedrooms         -0.0290      0.003     -9.253      0.000      -0.035      -0.023\n",
       "bathrooms         0.0470      0.004     11.445      0.000       0.039       0.055\n",
       "sqft_living       0.2500      0.016     15.338      0.000       0.218       0.282\n",
       "sqft_lot       9.265e-07   2.27e-07      4.081      0.000    4.81e-07    1.37e-06\n",
       "floors            0.0770      0.005     14.137      0.000       0.066       0.088\n",
       "waterfront        0.3765      0.029     13.154      0.000       0.320       0.433\n",
       "view              0.0450      0.003     14.235      0.000       0.039       0.051\n",
       "condition         0.0501      0.004     14.324      0.000       0.043       0.057\n",
       "grade             0.1487      0.003     45.448      0.000       0.142       0.155\n",
       "sqft_above     7.135e-05   8.47e-06      8.425      0.000    5.48e-05     8.8e-05\n",
       "basement          0.0662      0.007      9.137      0.000       0.052       0.080\n",
       "sqft_living15  8.599e-05   5.36e-06     16.029      0.000    7.55e-05    9.65e-05\n",
       "sqft_lot15    -1.448e-06   2.57e-07     -5.628      0.000   -1.95e-06   -9.44e-07\n",
       "house_age         0.0036      0.000     33.785      0.000       0.003       0.004\n",
       "Auburn           -0.4859      0.011    -43.101      0.000      -0.508      -0.464\n",
       "Bellevue          0.2049      0.010     21.316      0.000       0.186       0.224\n",
       "Federal Way      -0.5303      0.010    -50.937      0.000      -0.551      -0.510\n",
       "Issaquah         -0.0027      0.011     -0.243      0.808      -0.025       0.019\n",
       "Kenmore          -0.1189      0.016     -7.289      0.000      -0.151      -0.087\n",
       "Kent             -0.4326      0.010    -45.383      0.000      -0.451      -0.414\n",
       "Kirkland          0.1103      0.009     11.645      0.000       0.092       0.129\n",
       "Maple Valley     -0.3304      0.012    -26.601      0.000      -0.355      -0.306\n",
       "Mercer Island     0.2726      0.018     15.513      0.000       0.238       0.307\n",
       "Redmond           0.0916      0.010      8.892      0.000       0.071       0.112\n",
       "Renton           -0.2595      0.008    -31.765      0.000      -0.275      -0.243\n",
       "Sammamish        -0.0091      0.011     -0.807      0.420      -0.031       0.013\n",
       "Snoqualmie       -0.1189      0.016     -7.339      0.000      -0.151      -0.087\n",
       "Woodinville      -0.0426      0.017     -2.520      0.012      -0.076      -0.009\n",
       "==============================================================================\n",
       "Omnibus:                      464.608   Durbin-Watson:                   1.985\n",
       "Prob(Omnibus):                  0.000   Jarque-Bera (JB):              986.239\n",
       "Skew:                          -0.211   Prob(JB):                    6.93e-215\n",
       "Kurtosis:                       4.219   Cond. No.                     1.21e+06\n",
       "==============================================================================\n",
       "\n",
       "Notes:\n",
       "[1] Standard Errors assume that the covariance matrix of the errors is correctly specified.\n",
       "[2] The condition number is large, 1.21e+06. This might indicate that there are\n",
       "strong multicollinearity or other numerical problems.\n",
       "\"\"\""
      ]
     },
     "execution_count": 125,
     "metadata": {},
     "output_type": "execute_result"
    }
   ],
   "source": [
    "model5 = sm.OLS(y_train_log, sm.add_constant(all)).fit()\n",
    "model5.summary()"
   ]
  },
  {
   "cell_type": "markdown",
   "metadata": {},
   "source": [
    "Although R^2 score is higher in this model, condition number is very high as well. this is an indicator that there may be strong multicollinearity between the predictors and may affect the coefficient values. We will go with model 4 as our final model."
   ]
  },
  {
   "cell_type": "markdown",
   "metadata": {},
   "source": [
    "## Model validation"
   ]
  },
  {
   "cell_type": "code",
   "execution_count": 98,
   "metadata": {},
   "outputs": [
    {
     "name": "stderr",
     "output_type": "stream",
     "text": [
      "C:\\Users\\Martian\\Anaconda3\\envs\\learn-env\\lib\\site-packages\\pandas\\core\\generic.py:5168: SettingWithCopyWarning: \n",
      "A value is trying to be set on a copy of a slice from a DataFrame.\n",
      "Try using .loc[row_indexer,col_indexer] = value instead\n",
      "\n",
      "See the caveats in the documentation: https://pandas.pydata.org/pandas-docs/stable/user_guide/indexing.html#returning-a-view-versus-a-copy\n",
      "  self[name] = value\n"
     ]
    }
   ],
   "source": [
    "y_test_log = np.log(y_test)\n",
    "X_test.sqft_living = X_test.sqft_living.map(np.log)"
   ]
  },
  {
   "cell_type": "code",
   "execution_count": 101,
   "metadata": {},
   "outputs": [
    {
     "data": {
      "text/html": [
       "<div>\n",
       "<style scoped>\n",
       "    .dataframe tbody tr th:only-of-type {\n",
       "        vertical-align: middle;\n",
       "    }\n",
       "\n",
       "    .dataframe tbody tr th {\n",
       "        vertical-align: top;\n",
       "    }\n",
       "\n",
       "    .dataframe thead th {\n",
       "        text-align: right;\n",
       "    }\n",
       "</style>\n",
       "<table border=\"1\" class=\"dataframe\">\n",
       "  <thead>\n",
       "    <tr style=\"text-align: right;\">\n",
       "      <th></th>\n",
       "      <th>bedrooms</th>\n",
       "      <th>bathrooms</th>\n",
       "      <th>sqft_living</th>\n",
       "      <th>sqft_lot</th>\n",
       "      <th>floors</th>\n",
       "      <th>waterfront</th>\n",
       "      <th>view</th>\n",
       "      <th>condition</th>\n",
       "      <th>grade</th>\n",
       "      <th>sqft_above</th>\n",
       "      <th>...</th>\n",
       "      <th>Kenmore</th>\n",
       "      <th>Kent</th>\n",
       "      <th>Kirkland</th>\n",
       "      <th>Maple Valley</th>\n",
       "      <th>Mercer Island</th>\n",
       "      <th>Redmond</th>\n",
       "      <th>Renton</th>\n",
       "      <th>Sammamish</th>\n",
       "      <th>Snoqualmie</th>\n",
       "      <th>Woodinville</th>\n",
       "    </tr>\n",
       "  </thead>\n",
       "  <tbody>\n",
       "    <tr>\n",
       "      <th>16027</th>\n",
       "      <td>4</td>\n",
       "      <td>2.0</td>\n",
       "      <td>7.560080</td>\n",
       "      <td>9500</td>\n",
       "      <td>1.0</td>\n",
       "      <td>0</td>\n",
       "      <td>0</td>\n",
       "      <td>4</td>\n",
       "      <td>7</td>\n",
       "      <td>1470</td>\n",
       "      <td>...</td>\n",
       "      <td>0</td>\n",
       "      <td>0</td>\n",
       "      <td>0</td>\n",
       "      <td>0</td>\n",
       "      <td>0</td>\n",
       "      <td>0</td>\n",
       "      <td>0</td>\n",
       "      <td>0</td>\n",
       "      <td>0</td>\n",
       "      <td>0</td>\n",
       "    </tr>\n",
       "    <tr>\n",
       "      <th>3753</th>\n",
       "      <td>4</td>\n",
       "      <td>3.0</td>\n",
       "      <td>7.859413</td>\n",
       "      <td>7910</td>\n",
       "      <td>2.0</td>\n",
       "      <td>0</td>\n",
       "      <td>0</td>\n",
       "      <td>3</td>\n",
       "      <td>9</td>\n",
       "      <td>2590</td>\n",
       "      <td>...</td>\n",
       "      <td>0</td>\n",
       "      <td>0</td>\n",
       "      <td>0</td>\n",
       "      <td>0</td>\n",
       "      <td>0</td>\n",
       "      <td>0</td>\n",
       "      <td>0</td>\n",
       "      <td>0</td>\n",
       "      <td>0</td>\n",
       "      <td>0</td>\n",
       "    </tr>\n",
       "    <tr>\n",
       "      <th>12128</th>\n",
       "      <td>3</td>\n",
       "      <td>3.0</td>\n",
       "      <td>7.414573</td>\n",
       "      <td>5550</td>\n",
       "      <td>2.0</td>\n",
       "      <td>0</td>\n",
       "      <td>0</td>\n",
       "      <td>3</td>\n",
       "      <td>7</td>\n",
       "      <td>1660</td>\n",
       "      <td>...</td>\n",
       "      <td>0</td>\n",
       "      <td>0</td>\n",
       "      <td>0</td>\n",
       "      <td>0</td>\n",
       "      <td>0</td>\n",
       "      <td>0</td>\n",
       "      <td>0</td>\n",
       "      <td>0</td>\n",
       "      <td>0</td>\n",
       "      <td>0</td>\n",
       "    </tr>\n",
       "    <tr>\n",
       "      <th>8757</th>\n",
       "      <td>3</td>\n",
       "      <td>2.0</td>\n",
       "      <td>8.045588</td>\n",
       "      <td>42247</td>\n",
       "      <td>1.0</td>\n",
       "      <td>0</td>\n",
       "      <td>0</td>\n",
       "      <td>4</td>\n",
       "      <td>7</td>\n",
       "      <td>2150</td>\n",
       "      <td>...</td>\n",
       "      <td>0</td>\n",
       "      <td>1</td>\n",
       "      <td>0</td>\n",
       "      <td>0</td>\n",
       "      <td>0</td>\n",
       "      <td>0</td>\n",
       "      <td>0</td>\n",
       "      <td>0</td>\n",
       "      <td>0</td>\n",
       "      <td>0</td>\n",
       "    </tr>\n",
       "    <tr>\n",
       "      <th>7359</th>\n",
       "      <td>2</td>\n",
       "      <td>2.0</td>\n",
       "      <td>7.402452</td>\n",
       "      <td>3021</td>\n",
       "      <td>1.0</td>\n",
       "      <td>0</td>\n",
       "      <td>2</td>\n",
       "      <td>3</td>\n",
       "      <td>7</td>\n",
       "      <td>840</td>\n",
       "      <td>...</td>\n",
       "      <td>0</td>\n",
       "      <td>0</td>\n",
       "      <td>0</td>\n",
       "      <td>0</td>\n",
       "      <td>0</td>\n",
       "      <td>0</td>\n",
       "      <td>0</td>\n",
       "      <td>0</td>\n",
       "      <td>0</td>\n",
       "      <td>0</td>\n",
       "    </tr>\n",
       "  </tbody>\n",
       "</table>\n",
       "<p>5 rows × 28 columns</p>\n",
       "</div>"
      ],
      "text/plain": [
       "       bedrooms  bathrooms  sqft_living  sqft_lot  floors  waterfront  view  \\\n",
       "16027         4        2.0     7.560080      9500     1.0           0     0   \n",
       "3753          4        3.0     7.859413      7910     2.0           0     0   \n",
       "12128         3        3.0     7.414573      5550     2.0           0     0   \n",
       "8757          3        2.0     8.045588     42247     1.0           0     0   \n",
       "7359          2        2.0     7.402452      3021     1.0           0     2   \n",
       "\n",
       "       condition  grade  sqft_above  ...  Kenmore  Kent  Kirkland  \\\n",
       "16027          4      7        1470  ...        0     0         0   \n",
       "3753           3      9        2590  ...        0     0         0   \n",
       "12128          3      7        1660  ...        0     0         0   \n",
       "8757           4      7        2150  ...        0     1         0   \n",
       "7359           3      7         840  ...        0     0         0   \n",
       "\n",
       "       Maple Valley  Mercer Island  Redmond  Renton  Sammamish  Snoqualmie  \\\n",
       "16027             0              0        0       0          0           0   \n",
       "3753              0              0        0       0          0           0   \n",
       "12128             0              0        0       0          0           0   \n",
       "8757              0              0        0       0          0           0   \n",
       "7359              0              0        0       0          0           0   \n",
       "\n",
       "       Woodinville  \n",
       "16027            0  \n",
       "3753             0  \n",
       "12128            0  \n",
       "8757             0  \n",
       "7359             0  \n",
       "\n",
       "[5 rows x 28 columns]"
      ]
     },
     "execution_count": 101,
     "metadata": {},
     "output_type": "execute_result"
    }
   ],
   "source": [
    "X_test_num = X_test.drop('primary_city', axis = 1)\n",
    "X_test_cat = X_test.primary_city\n",
    "\n",
    "dummies = pd.get_dummies(X_test_cat)\n",
    "dummies.drop('Seattle', axis = 1, inplace = True)\n",
    "\n",
    "X_test_final = pd.concat([X_test_num, dummies], axis = 1)\n",
    "X_test_final.head()"
   ]
  },
  {
   "cell_type": "code",
   "execution_count": 102,
   "metadata": {},
   "outputs": [],
   "source": [
    "finaltestX = X_test_final[X_test_final.columns[features]]"
   ]
  },
  {
   "cell_type": "code",
   "execution_count": 103,
   "metadata": {},
   "outputs": [],
   "source": [
    "y_pred_train = model4.predict(sm.add_constant(finalX))\n",
    "y_pred_test = model4.predict(sm.add_constant(finaltestX))"
   ]
  },
  {
   "cell_type": "code",
   "execution_count": 104,
   "metadata": {},
   "outputs": [
    {
     "name": "stdout",
     "output_type": "stream",
     "text": [
      "Train Mean Squarred Error: 0.06162962710680433\n",
      "Test Mean Squarred Error: 0.06121136680839664\n"
     ]
    }
   ],
   "source": [
    "train_mse = mean_squared_error(y_train_log, y_pred_train)\n",
    "test_mse = mean_squared_error(y_test_log, y_pred_test)\n",
    "print('Train Mean Squarred Error:', train_mse)\n",
    "print('Test Mean Squarred Error:', test_mse)"
   ]
  },
  {
   "cell_type": "markdown",
   "metadata": {},
   "source": [
    "#### \n",
    "\n"
   ]
  },
  {
   "cell_type": "markdown",
   "metadata": {},
   "source": []
  },
  {
   "cell_type": "markdown",
   "metadata": {},
   "source": [
    "## Conclusions\n",
    "\n",
    "\n",
    "\n",
    "- __Location, location, location__ Our final model showed that the biggest factor in house prices are location. results from analysis can be used to advise homeowners of \n",
    "\n",
    "\n",
    "\n",
    "\n",
    " \n",
    "## Next Steps\n",
    "\n",
    "\n",
    "\n"
   ]
  }
 ],
 "metadata": {
  "kernelspec": {
   "display_name": "Python (learn-env)",
   "language": "python",
   "name": "learn-env"
  },
  "language_info": {
   "codemirror_mode": {
    "name": "ipython",
    "version": 3
   },
   "file_extension": ".py",
   "mimetype": "text/x-python",
   "name": "python",
   "nbconvert_exporter": "python",
   "pygments_lexer": "ipython3",
   "version": "3.8.5"
  },
  "toc": {
   "base_numbering": 1,
   "nav_menu": {},
   "number_sections": true,
   "sideBar": true,
   "skip_h1_title": false,
   "title_cell": "Table of Contents",
   "title_sidebar": "Contents",
   "toc_cell": false,
   "toc_position": {},
   "toc_section_display": true,
   "toc_window_display": false
  },
  "varInspector": {
   "cols": {
    "lenName": 16,
    "lenType": 16,
    "lenVar": 40
   },
   "kernels_config": {
    "python": {
     "delete_cmd_postfix": "",
     "delete_cmd_prefix": "del ",
     "library": "var_list.py",
     "varRefreshCmd": "print(var_dic_list())"
    },
    "r": {
     "delete_cmd_postfix": ") ",
     "delete_cmd_prefix": "rm(",
     "library": "var_list.r",
     "varRefreshCmd": "cat(var_dic_list()) "
    }
   },
   "position": {
    "height": "490.85px",
    "left": "706px",
    "right": "20px",
    "top": "104px",
    "width": "581px"
   },
   "types_to_exclude": [
    "module",
    "function",
    "builtin_function_or_method",
    "instance",
    "_Feature"
   ],
   "window_display": false
  }
 },
 "nbformat": 4,
 "nbformat_minor": 4
}
